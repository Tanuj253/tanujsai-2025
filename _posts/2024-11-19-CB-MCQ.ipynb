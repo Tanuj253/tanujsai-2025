{
 "cells": [
  {
   "cell_type": "markdown",
   "metadata": {},
   "source": []
  },
  {
   "cell_type": "markdown",
   "metadata": {},
   "source": [
    "Impactful code:"
   ]
  },
  {
   "cell_type": "code",
   "execution_count": null,
   "metadata": {
    "vscode": {
     "languageId": "java"
    }
   },
   "outputs": [],
   "source": [
    "function fetchAndDisplayLeaderboard() {\n",
    "        fetch('${javaURI}/api/people')  // should be API endpoint for all people\n",
    "            .then(response => {\n",
    "                if (!response.ok) {\n",
    "                    throw new Error(\"Failed to fetch user data\");\n",
    "                }\n",
    "                return response.json();\n",
    "            })\n",
    "            .then(people => {\n",
    "                // Group people by their team name\n",
    "                const teams = people.reduce((acc, person) => {\n",
    "                    const teamKey = person.team;\n",
    "                    if (!acc[teamKey]) {\n",
    "                        acc[teamKey] = { members: [], balance: 0 };\n",
    "                    }\n",
    "                    acc[teamKey].members.push(person.name);\n",
    "                    acc[teamKey].balance += person.balance;\n",
    "                    return acc;\n",
    "                }, {});"
   ]
  },
  {
   "cell_type": "markdown",
   "metadata": {},
   "source": [
    "This was all the leaderboard page fetching code inorder to access each user and seperate each one to teams. this was essential to interact with the backend and use the data supplied from the balences and seperating by teams."
   ]
  },
  {
   "cell_type": "markdown",
   "metadata": {},
   "source": [
    "# Q1:\n",
    "A: This is incorrect because the sum of the selected indices (0, 2, and 4) is 3 + 1 + 4 = 8, not 5.\n",
    "B: This would have been correct if the loop included indices 1, 3, and 5, but it does not. The loop skips every second element starting from index 0.\n",
    "C: This would require an alternate sequence of indices, but the method strictly adds nums[0] + nums[2] + nums[4].\n",
    "D: This would occur if the loop added up values from indices 0 and 4 only (3 + 4 = 7), and then added 3 incorrectly.\n",
    "E: Correct because the indices processed by the loop are 0, 2, and 4. Their values are:\n",
    "nums[0] = 3, nums[2] = 1, nums[4] = 4.\n",
    "Sum = 3 + 1 + 4 = 8."
   ]
  },
  {
   "cell_type": "markdown",
   "metadata": {},
   "source": [
    "# Q2"
   ]
  },
  {
   "cell_type": "code",
   "execution_count": null,
   "metadata": {
    "vscode": {
     "languageId": "java"
    }
   },
   "outputs": [],
   "source": []
  },
  {
   "cell_type": "code",
   "execution_count": null,
   "metadata": {
    "vscode": {
     "languageId": "plaintext"
    }
   },
   "outputs": [],
   "source": []
  },
  {
   "cell_type": "markdown",
   "metadata": {},
   "source": []
  }
 ],
 "metadata": {
  "language_info": {
   "name": "python"
  }
 },
 "nbformat": 4,
 "nbformat_minor": 2
}
