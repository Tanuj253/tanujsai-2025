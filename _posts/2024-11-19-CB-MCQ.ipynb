{
 "cells": [
  {
   "cell_type": "markdown",
   "metadata": {},
   "source": [
    "---\n",
    "layout: post\n",
    "title: CB MCQ\n",
    "description: mc ans key\n",
    "type: issues \n",
    "comments: true\n",
    "---"
   ]
  },
  {
   "cell_type": "markdown",
   "metadata": {},
   "source": [
    "Impactful code:"
   ]
  },
  {
   "cell_type": "code",
   "execution_count": null,
   "metadata": {
    "vscode": {
     "languageId": "java"
    }
   },
   "outputs": [],
   "source": [
    "function fetchAndDisplayLeaderboard() {\n",
    "        fetch('${javaURI}/api/people')  // should be API endpoint for all people\n",
    "            .then(response => {\n",
    "                if (!response.ok) {\n",
    "                    throw new Error(\"Failed to fetch user data\");\n",
    "                }\n",
    "                return response.json();\n",
    "            })\n",
    "            .then(people => {\n",
    "                // Group people by their team name\n",
    "                const teams = people.reduce((acc, person) => {\n",
    "                    const teamKey = person.team;\n",
    "                    if (!acc[teamKey]) {\n",
    "                        acc[teamKey] = { members: [], balance: 0 };\n",
    "                    }\n",
    "                    acc[teamKey].members.push(person.name);\n",
    "                    acc[teamKey].balance += person.balance;\n",
    "                    return acc;\n",
    "                }, {});"
   ]
  },
  {
   "cell_type": "markdown",
   "metadata": {},
   "source": [
    "This was all the leaderboard page fetching code inorder to access each user and seperate each one to teams. this was essential to interact with the backend and use the data supplied from the balences and seperating by teams."
   ]
  },
  {
   "cell_type": "markdown",
   "metadata": {},
   "source": [
    "![image](https://github.com/user-attachments/assets/aa26ecd4-d206-43fc-addb-ce52cdfe9027)\n",
    "What I need to work on."
   ]
  },
  {
   "cell_type": "markdown",
   "metadata": {},
   "source": [
    "# Q1:\n",
    "A: This is incorrect because the sum of the selected indices (0, 2, and 4) is 3 + 1 + 4 = 8, not 5.\n",
    "\n",
    "B: This would have been correct if the loop included indices 1, 3, and 5, but it does not. The loop skips every second element starting from index 0.\n",
    "\n",
    "C: This would require an alternate sequence of indices, but the method strictly adds nums[0] + nums[2] + nums[4].\n",
    "\n",
    "D: This would occur if the loop added up values from indices 0 and 4 only (3 + 4 = 7), and then added 3 incorrectly.\n",
    "\n",
    "E: Correct because the indices processed by the loop are 0, 2, and 4. Their values are:\n",
    "nums[0] = 3, nums[2] = 1, nums[4] = 4.\n",
    "Sum = 3 + 1 + 4 = 8."
   ]
  },
  {
   "cell_type": "markdown",
   "metadata": {},
   "source": [
    "# Q4  \n",
    "A: Incorrect, as `x * y` is never evaluated because the condition `(x < 10) && (y < 0)` is false.  \n",
    "\n",
    "B: Incorrect, as this would be the result of floating-point division (`7.0 / 3.0`), but both `x` and `y` are integers, so integer division is used instead.  \n",
    "\n",
    "C: Correct, because integer division (`x / y = 7 / 3`) truncates the decimal portion, resulting in `2`.  \n",
    "\n",
    "D: Incorrect, as `x / y` does not evaluate to `0`; the result of `7 / 3` is `2` in integer division.  \n",
    "\n",
    "E: Incorrect, as there is no operation in the code that produces a value of `1`.  "
   ]
  },
  {
   "cell_type": "markdown",
   "metadata": {},
   "source": [
    "# Q9  \n",
    "A: Incorrect, as this replaces the value of `sum` with the current element of the array rather than accumulating the total.  \n",
    "\n",
    "B: Correct, because `key[i - 1]` correctly references the element at the current position (since the loop starts at `i = 1`), and `+=` adds it to `sum` for accumulation.  \n",
    "\n",
    "C: Incorrect, because `key[i]` attempts to access an index beyond the array bounds when `i == key.length`, resulting in an error.  \n",
    "\n",
    "D: Incorrect, because it adds `sum` to itself repeatedly, resulting in incorrect values.  \n",
    "\n",
    "E: Incorrect, because `key[i]` causes the same out-of-bounds error as option C.  "
   ]
  },
  {
   "cell_type": "markdown",
   "metadata": {},
   "source": [
    "# Q19  \n",
    "A: Incorrect, because it represents an incorrect application of **De Morgan's Law**. The logical operator `&&` should be converted to `||`, and the inequality `b > 7` should be inverted to `b <= 7`.  \n",
    "\n",
    "B: Correct, as it correctly applies **De Morgan's Law** to transform the expression. The inner `&&` becomes `||`, the `b > 7` becomes `b <= 7`, and the negations are correctly distributed.  \n",
    "\n",
    "C: Incorrect, as it is the same as option B but has redundant negations, leading to logical errors in equivalence.  \n",
    "\n",
    "D: Incorrect, because the `&&` operator remains unchanged instead of being converted to `||` during the transformation.  \n",
    "\n",
    "E: Incorrect, because it changes the original logic of the expression to one involving equality (`a == b`) and does not apply De Morgan's Law correctly.  "
   ]
  },
  {
   "cell_type": "markdown",
   "metadata": {
    "vscode": {
     "languageId": "java"
    }
   },
   "source": [
    "# Q20  \n",
    "A: Incorrect, because the array **nums** is modified in the method. The swapping of elements ensures the array is not left unchanged.  \n",
    "\n",
    "B: Incorrect, because the method does not copy the first element to all positions in the array. Instead, it swaps elements from the beginning and end of the array moving inward.  \n",
    "\n",
    "C: Incorrect, because the last element is not copied to all positions. The method reverses the array by swapping elements, not by overwriting them.  \n",
    "\n",
    "D: Incorrect, because the method ensures that all array accesses are within bounds. The loop's condition `j < k` prevents out-of-bounds access.  \n",
    "\n",
    "E: Correct, because the method swaps elements at the beginning (`j`) and end (`k`) of the array, incrementing `j` and decrementing `k` until the entire array is reversed.  "
   ]
  },
  {
   "cell_type": "markdown",
   "metadata": {},
   "source": [
    "### Q21  \n",
    "\n",
    "**A:** Incorrect, because `row[num]` is invalid. `num` is the current value in the array, not an index.  \n",
    "\n",
    "**B:** Incorrect, because the comparison checks `num - minDiff`, which is unrelated to finding the closest value to `val`. The calculation should involve `val`.  \n",
    "\n",
    "**C:** Incorrect, because this only checks if `num` is greater than `val`. It does not account for the absolute difference required to determine closeness.  \n",
    "\n",
    "**D:** Correct, because `Math.abs(num - val) < minDiff` correctly identifies if the current value `num` is closer to `val` than the previously stored closest value.  \n",
    "\n",
    "**E:** Incorrect, because `row[num]` is invalid. `num` is a value, not an index, and this would cause a logical error.  "
   ]
  },
  {
   "cell_type": "markdown",
   "metadata": {},
   "source": [
    "### Q22  \n",
    "\n",
    "**A:** Incorrect, because a `Book` variable can refer to an `AudioBook` object due to polymorphism. The `AudioBook` class extends `Book`, so this is allowed.  \n",
    "\n",
    "**B:** Correct, because the `pagesPerMinute` method is defined only in the `AudioBook` class, not in the `Book` class. When a `Book` variable references an `AudioBook` object, only methods declared in the `Book` class can be called directly.  \n",
    "\n",
    "**C:** Incorrect, because the `toString` method is inherited from the `Book` class and does not need to be redefined in the `AudioBook` class. It is available to both `Book` and `AudioBook` objects.  \n",
    "\n",
    "**D:** Incorrect, because the compiler can distinguish between the `length` methods due to dynamic method dispatch. The method called depends on the runtime type of the object (`Book` or `AudioBook`).  \n",
    "\n",
    "**E:** Incorrect, because all elements of the `books` array are initialized in the provided code. There are no uninitialized elements in the array.  "
   ]
  },
  {
   "cell_type": "markdown",
   "metadata": {},
   "source": [
    "### Q33  \n",
    "\n",
    "**A:** Incorrect, because the loop does not terminate when `sum` equals 6. The condition `sum < 12 || k < 4` ensures that the loop keeps running as long as either condition is true.  \n",
    "\n",
    "**B:** Incorrect, because the loop continues until `sum` reaches 12. The value 10 is never the final output of `sum`.  \n",
    "\n",
    "**C:** Incorrect, because this answer assumes the loop terminates when `sum` reaches 12. However, the `||` (OR) condition causes an infinite loop since `k` is never incremented, keeping `k < 4` true.  \n",
    "\n",
    "**D:** Incorrect, because the `sum` value never reaches 15, as the program does not break out of the infinite loop.  \n",
    "\n",
    "**E:** Correct, because `k` is never incremented, and the condition `k < 4` always remains true. As a result, the `while` loop runs infinitely, and nothing is printed.  "
   ]
  },
  {
   "cell_type": "markdown",
   "metadata": {},
   "source": [
    "### Q22\n",
    "**A**: Incorrect, because a `Book` variable can refer to an `AudioBook` object due to polymorphism. The `AudioBook` class extends `Book`, so this is allowed.  \n",
    "\n",
    "**B**: Correct, because the `pagesPerMinute` method is defined only in the `AudioBook` class, not in the `Book` class. When a `Book` variable references an `AudioBook` object, only methods declared in the `Book` class can be called directly.  \n",
    "\n",
    "**C**: Incorrect, because the `toString` method is inherited from the `Book` class and does not need to be redefined in the `AudioBook` class. It is available to both `Book` and `AudioBook` objects.  \n",
    "\n",
    "**D**: Incorrect, because the compiler can distinguish between the `length` methods due to dynamic method dispatch. The method called depends on the runtime type of the object (`Book` or `AudioBook`).  \n",
    "\n",
    "**E**: Incorrect, because all elements of the `books` array are initialized in the provided code. There are no uninitialized elements in the array.  "
   ]
  }
 ],
 "metadata": {
  "language_info": {
   "name": "python"
  }
 },
 "nbformat": 4,
 "nbformat_minor": 2
}
