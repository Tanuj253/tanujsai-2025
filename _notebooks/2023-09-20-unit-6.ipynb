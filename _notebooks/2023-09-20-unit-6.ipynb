{
 "cells": [
  {
   "cell_type": "markdown",
   "metadata": {},
   "source": []
  },
  {
   "cell_type": "markdown",
   "metadata": {},
   "source": [
    "# 6.1"
   ]
  },
  {
   "cell_type": "markdown",
   "metadata": {},
   "source": [
    "Create an array called “city_array” with the elements “San Diego”, “Los Angeles”, “San Francisco”, “Sacramento”\n",
    "Print out the first element in the array\n",
    "Print out the third element in the array\n",
    "Change the second element in the array to “Sacramento”\n",
    "Change the fourth element in the array to “San Jose”\n",
    "Print out the length of the array"
   ]
  },
  {
   "cell_type": "code",
   "execution_count": 4,
   "metadata": {
    "vscode": {
     "languageId": "java"
    }
   },
   "outputs": [],
   "source": [
    "public class CityArray {\n",
    "    public static void main(String[] args) {\n",
    "        // Create an array called city_array\n",
    "        String[] city_array = {\"San Diego\", \"Los Angeles\", \"San Francisco\", \"Sacramento\"};\n",
    "    }\n",
    "}"
   ]
  },
  {
   "cell_type": "code",
   "execution_count": 6,
   "metadata": {
    "vscode": {
     "languageId": "java"
    }
   },
   "outputs": [],
   "source": [
    "public class CityArray {\n",
    "    public static void main(String[] args) {\n",
    "        String[] city_array = {\"San Diego\", \"Los Angeles\", \"San Francisco\", \"Sacramento\"};\n",
    "\n",
    "        // Print out the first element in the array\n",
    "        System.out.println(\"First element: \" + city_array[0]);\n",
    "    }\n",
    "}"
   ]
  },
  {
   "cell_type": "code",
   "execution_count": 7,
   "metadata": {
    "vscode": {
     "languageId": "java"
    }
   },
   "outputs": [],
   "source": [
    "public class CityArray {\n",
    "    public static void main(String[] args) {\n",
    "        String[] city_array = {\"San Diego\", \"Los Angeles\", \"San Francisco\", \"Sacramento\"};\n",
    "\n",
    "        // Print out the third element in the array\n",
    "        System.out.println(\"Third element: \" + city_array[2]);\n",
    "    }\n",
    "}"
   ]
  },
  {
   "cell_type": "code",
   "execution_count": 8,
   "metadata": {
    "vscode": {
     "languageId": "java"
    }
   },
   "outputs": [],
   "source": [
    "public class CityArray {\n",
    "    public static void main(String[] args) {\n",
    "        String[] city_array = {\"San Diego\", \"Los Angeles\", \"San Francisco\", \"Sacramento\"};\n",
    "\n",
    "        // Change the second element in the array to \"Sacramento\"\n",
    "        city_array[1] = \"Sacramento\";\n",
    "\n",
    "        // Print updated array to confirm\n",
    "        System.out.println(\"Updated second element: \" + city_array[1]);\n",
    "    }\n",
    "}"
   ]
  },
  {
   "cell_type": "code",
   "execution_count": 10,
   "metadata": {
    "vscode": {
     "languageId": "java"
    }
   },
   "outputs": [],
   "source": [
    "public class CityArray {\n",
    "    public static void main(String[] args) {\n",
    "        String[] city_array = {\"San Diego\", \"Los Angeles\", \"San Francisco\", \"Sacramento\"};\n",
    "\n",
    "        // Change the fourth element in the array to \"San Jose\"\n",
    "        city_array[3] = \"San Jose\";\n",
    "\n",
    "        // Print updated array to confirm\n",
    "        System.out.println(\"Updated fourth element: \" + city_array[3]);\n",
    "    }\n",
    "}"
   ]
  },
  {
   "cell_type": "code",
   "execution_count": 13,
   "metadata": {
    "vscode": {
     "languageId": "java"
    }
   },
   "outputs": [],
   "source": [
    "public class CityArray {\n",
    "    public static void main(String[] args) {\n",
    "        String[] city_array = {\"San Diego\", \"Los Angeles\", \"San Francisco\", \"Sacramento\"};\n",
    "\n",
    "        // Print out the length of the array\n",
    "        System.out.println(\"Length of the array: \" + city_array.length);\n",
    "    }\n",
    "}"
   ]
  },
  {
   "cell_type": "markdown",
   "metadata": {},
   "source": [
    "Create four new arrays, with int, string, double, and boolean types respectively. Print out the second element of each array to see the default values."
   ]
  },
  {
   "cell_type": "code",
   "execution_count": null,
   "metadata": {
    "vscode": {
     "languageId": "java"
    }
   },
   "outputs": [],
   "source": []
  },
  {
   "cell_type": "markdown",
   "metadata": {},
   "source": [
    "Hw:\n",
    "## Question 1:\n",
    "Consider the following method which is intended to return the position of find within the String referenced at the third last index of arr.\n",
    "\n",
    "public static int findThirdLast(String [] arr, String find)\n",
    "{\n",
    "return /*missing code*/;\n",
    "}\n",
    "\n",
    "Which of the following could replace /*missing code*/ to complete the method as specified?\n",
    "A. arr[].indexOf(find)\n",
    "B. arr.indexOf(find)\n",
    "C. arr[arr.length].indexOf(find)\n",
    "D. arr[arr.length - 3].indexOf(find)\n",
    "E. arr[arr.length - 2].indexOf(find)\n",
    "\n",
    "Answer:\n",
    "\n",
    "\n",
    "## Question 2\n",
    "Consider the following method:\n",
    "\n",
    "public static int mystery(int [] arr)\n",
    "{\n",
    "return arr[1] + arr[4]/2\n",
    "}\n",
    "\n",
    "The mystery method is called from another method in the same class: int[] list = {1,9,2,5,6};\n",
    "int result = mystery(list);\n",
    "\n",
    "What is stored in result after executing the above code?\n",
    "\n",
    "A. 2\n",
    "B. 12\n",
    "C. 15\n",
    "D. 9\n",
    "E. 8"
   ]
  },
  {
   "cell_type": "code",
   "execution_count": null,
   "metadata": {
    "vscode": {
     "languageId": "java"
    }
   },
   "outputs": [],
   "source": []
  },
  {
   "cell_type": "markdown",
   "metadata": {},
   "source": [
    "# 6.2\n",
    "arrays are most easily traverese through for loops"
   ]
  },
  {
   "cell_type": "code",
   "execution_count": null,
   "metadata": {
    "vscode": {
     "languageId": "java"
    }
   },
   "outputs": [],
   "source": [
    "public static int sumOfEvenNumbers(int[] arr) {\n",
    "    /* \n",
    "     * This function takes an array of integers as input and returns the sum of all even numbers in the array.\n",
    "     */\n",
    "    sum=0\n",
    "    for(int index=0; index < list.length; index++) {\n",
    "        sum=sum + index\n",
    "    }\n",
    "\n",
    "system.out.println(sum)\n",
    "}\n",
    "\n",
    "// Example usage:\n",
    "int[] arr = {1, 2, 3, 4, 5};\n",
    "System.out.println(sumOfEvenNumbers(arr)); // Output: 6"
   ]
  },
  {
   "cell_type": "markdown",
   "metadata": {},
   "source": [
    "for each loop goes through a list as it check for new elements until there arent any more which is when it ends"
   ]
  },
  {
   "cell_type": "code",
   "execution_count": 14,
   "metadata": {
    "vscode": {
     "languageId": "java"
    }
   },
   "outputs": [
    {
     "name": "stdout",
     "output_type": "stream",
     "text": [
      "3\n"
     ]
    }
   ],
   "source": [
    "public static int countOccurrences(int[] arr, int target) {\n",
    "    /*\n",
    "     * This function takes an array of integers and a target integer as input and returns the number of times the target integer appears in the array.\n",
    "     */\n",
    "    int sum = 0;\n",
    "    for (int number: arr) {\n",
    "        if (number == target) {\n",
    "            sum = sum + 1;\n",
    "        }\n",
    "\n",
    "    }\n",
    "    return sum;\n",
    "}\n",
    "\n",
    "// Example usage:\n",
    "int[] arr = {3, 5, 3, 3, 7, 5};\n",
    "int target = 3;\n",
    "System.out.println(countOccurrences(arr, target)); // Output: 3"
   ]
  },
  {
   "cell_type": "markdown",
   "metadata": {},
   "source": [
    "Bound errors:\n",
    "common errors are:\n",
    "    ArrayIndoxOutOfBoundsException\n",
    "\n",
    "\n",
    "Answer:\n",
    "C\n",
    "\n",
    "Answer:\n",
    "E"
   ]
  },
  {
   "cell_type": "code",
   "execution_count": null,
   "metadata": {
    "vscode": {
     "languageId": "java"
    }
   },
   "outputs": [],
   "source": [
    "hw:\n",
    "public static int findSecondLargest(int[] arr) {\n",
    "    /*\n",
    "     * This function takes an array of integers as input and returns the second largest unique element in the array. \n",
    "     * If the array has less than 2 elements, the function should return -1.\n",
    "     */\n",
    "    \n",
    "}\n",
    "\n",
    "// Example usage:\n",
    "public static void main(String[] args) {\n",
    "    int[] arr1 = {3, 1, 4, 1, 5, 9, 2, 6};\n",
    "    System.out.println(findSecondLargest(arr1)); // Output: 6\n",
    "\n",
    "    int[] arr2 = {10, 10, 10, 10};\n",
    "    System.out.println(findSecondLargest(arr2)); // Output: -1\n",
    "}"
   ]
  },
  {
   "cell_type": "markdown",
   "metadata": {},
   "source": [
    "# 6.3\n",
    "enganced for loop:\n",
    "    simplified version of reg for loop\n",
    "    access elements of array instead of counter"
   ]
  },
  {
   "cell_type": "code",
   "execution_count": null,
   "metadata": {
    "vscode": {
     "languageId": "java"
    }
   },
   "outputs": [],
   "source": [
    "String[] languages = {\"Java\", \"Python\", \"Markdown\", \"C++\", \"Go\", \"JavaScript\", \"HTML\"};\n",
    "\n",
    "for (int number : numbers) {\n",
    "    number += 1\n",
    "    System.out.println(languages[i]);\n",
    "};"
   ]
  },
  {
   "cell_type": "markdown",
   "metadata": {},
   "source": [
    "HW:\n"
   ]
  },
  {
   "cell_type": "code",
   "execution_count": null,
   "metadata": {
    "vscode": {
     "languageId": "java"
    }
   },
   "outputs": [],
   "source": [
    "Integer[] grades = {88, 93, 55, 68, 77};\n",
    "\n",
    "Scanner userGrades = new Scanner(System.in);\n",
    "System.out.print(\"Enter a grade: \");\n",
    "int grade = Integer.parseInt(userGrades.nextLine());\n",
    "\n",
    "// Add code here to take the average\n",
    "\n",
    "grades = Arrays.copyOf(grades, grades.length + 1);\n",
    "grades[grades.length - 1] = grade;\n",
    "System.out.println(Arrays.toString(grades));"
   ]
  },
  {
   "cell_type": "markdown",
   "metadata": {},
   "source": [
    "# 6.4"
   ]
  },
  {
   "cell_type": "code",
   "execution_count": 6,
   "metadata": {
    "vscode": {
     "languageId": "java"
    }
   },
   "outputs": [
    {
     "name": "stdout",
     "output_type": "stream",
     "text": [
      "Increase\n",
      "Increase\n",
      "Increase\n",
      "Maximum value: 12\n",
      "Minimum value: -1\n"
     ]
    }
   ],
   "source": [
    "public class MaxMinInArray {\n",
    "\n",
    "    public static void findMaxAndMin(int[] array) {\n",
    "       \n",
    "        if (array == null || array.length == 0) {\n",
    "            System.out.println(\"Array is empty\");\n",
    "            return;\n",
    "        }\n",
    "\n",
    "        int max = array[0];\n",
    "        int min = array[0];\n",
    "\n",
    "        \n",
    "        for (int i = 1; i < array.length; i++) {\n",
    "            // Add code here\n",
    "            if (array[i] > max) {\n",
    "                max = array[i];  \n",
    "            }\n",
    "            if (array[i] < min) {\n",
    "                min = array[i];  \n",
    "            }\n",
    "            if (array[i] < array[i-1])\n",
    "                System.out.println(\"Increase\");\n",
    "        }\n",
    "\n",
    "        System.out.println(\"Maximum value: \" + max);\n",
    "        System.out.println(\"Minimum value: \" + min);\n",
    "    }\n",
    "\n",
    "    public static void main(String[] args) {\n",
    "     \n",
    "        int[] array = {3, 5, 7, 2, 8, -1, 4, 0, 12};\n",
    "\n",
    "        \n",
    "        findMaxAndMin(array);\n",
    "    }\n",
    "}\n",
    "MaxMinInArray.main(null)"
   ]
  },
  {
   "cell_type": "markdown",
   "metadata": {},
   "source": [
    "HW:Go through the array in reverse order and output each object"
   ]
  },
  {
   "cell_type": "code",
   "execution_count": 3,
   "metadata": {
    "vscode": {
     "languageId": "java"
    }
   },
   "outputs": [
    {
     "name": "stdout",
     "output_type": "stream",
     "text": [
      "5\n",
      "4\n",
      "3\n",
      "2\n",
      "1\n",
      "0\n"
     ]
    }
   ],
   "source": [
    "public class ReverseArray {\n",
    "    public static void main(String[] args) {\n",
    "        Integer[] myArray = {0, 1, 2, 3, 4, 5};\n",
    "        for (int i = 1; i <= myArray.length; i++) {\n",
    "            System.out.println(myArray[myArray.length - i]);\n",
    "        }\n",
    "    }\n",
    "}\n",
    "ReverseArray.main(null);"
   ]
  },
  {
   "cell_type": "markdown",
   "metadata": {},
   "source": [
    "HW Hack: Print words while skipping every other word (“Alpha”, “Gamma”, “Beta”, “Delta”)"
   ]
  },
  {
   "cell_type": "code",
   "execution_count": null,
   "metadata": {
    "vscode": {
     "languageId": "java"
    }
   },
   "outputs": [],
   "source": [
    "public class WordShifter {  \n",
    "    public static void main(String[] args) {\n",
    "        String[] words = {\"alpha\", \"beta\", \"gamma\", \"delta\"};\n",
    "        // every other word printed starting w/ 0\n",
    "        for (int i = 0; i < words.length; i += 2) {\n",
    "            System.out.print(words[i] + \" \");\n",
    "        }\n",
    "    }\n",
    "}\n",
    "\n",
    "WordShifter.main(null);"
   ]
  }
 ],
 "metadata": {
  "kernelspec": {
   "display_name": "Java",
   "language": "java",
   "name": "java"
  },
  "language_info": {
   "codemirror_mode": "java",
   "file_extension": ".jshell",
   "mimetype": "text/x-java-source",
   "name": "Java",
   "pygments_lexer": "java",
   "version": "17.0.12+7-Ubuntu-1ubuntu222.04"
  }
 },
 "nbformat": 4,
 "nbformat_minor": 2
}
