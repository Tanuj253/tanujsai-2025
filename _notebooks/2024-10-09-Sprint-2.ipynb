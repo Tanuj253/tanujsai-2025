{
 "cells": [
  {
   "cell_type": "markdown",
   "metadata": {},
   "source": [
    "---\n",
    "layout: post\n",
    "title: Sprint 2\n",
    "description: Sprint\n",
    "type: issues \n",
    "comments: true\n",
    "---"
   ]
  },
  {
   "cell_type": "markdown",
   "metadata": {},
   "source": [
    "Unit overview:\n",
    "# Unit 1: \n",
    "- Store basic data such as deadlines, progress tracking, and GPA. \n",
    "- Use int for deadlines, double for GPA, and boolean for task statuses.\n",
    "- Implement condition checks using primitive types to monitor progress. \n",
    "- Apply boolean logic to ensure accurate tracking of task completion.\n",
    "\n",
    "# Unit 2:\n",
    "- Create objects to represent real-world entities such as Colleges, Applications, and Students. \n",
    "- Encapsulate data to maintain privacy and control access to sensitive attributes like GPA. \n",
    "- Use methods within objects to manipulate data, such as updating the application status. \n",
    "- Write reusable and scalable code by leveraging objects and classes.\n",
    "\n",
    "# Unit 3:\n",
    "- Implement if statements to verify whether a student has fulfilled all necessary requirements. \n",
    "- Use boolean logic to dynamically assess college eligibility. \n",
    "- Set boolean flags to trigger feedback for essays or other application stages. \n",
    "- Improve decision-making in application processes through the use of conditional logic.\n",
    "\n",
    "# Unit 4:\n",
    "- Utilize loops to iterate over student applications and monitor completion rates. \n",
    "- Apply for loops to handle lists of colleges or application requirements. \n",
    "- Use while loops for continuous processes, such as updating the dashboard until an application is submitted. \n",
    "- Optimize progress tracking by incorporating break and continue statements.\n",
    "\n",
    "# Unit 5:\n",
    "- Design classes to represent complex entities such as students or colleges. \n",
    "- Ensure encapsulation and use constructors appropriately when initializing objects. \n",
    "- Implement methods to modify the object's state, such as updating college preferences or tracking application progress. \n",
    "- Emphasize Object-Oriented Programming principles like inheritance and polymorphism to create flexible and scalable code.\n",
    "\n",
    "# Unit 6:\n",
    "- Store collections of data, such as a student's multiple test scores, using arrays. \n",
    "- Organize large data sets for easy access and manipulation. Use loops to traverse arrays and perform operations like calculating average scores. \n",
    "- Learn how to manipulate arrays by adding, removing, or updating elements efficiently.\n",
    "\n",
    "# Unit 8:\n",
    "- Work with two-dimensional arrays to store grid-like data (e.g., test scores for multiple subjects).\n",
    "- Understand how to traverse and manipulate 2D arrays with nested loops.\n",
    "- Store data like student grades across different subjects in a 2D array format.\n",
    "- Apply 2D arrays to solve problems that require matrix-like data structures.\n",
    "\n",
    "# Unit 9:\n",
    "- Use inheritance to reuse code and extend functionality, such as creating a HonorsStudent subclass from a Student class. \n",
    "- Utilize the extends keyword to define child classes that inherit properties and methods from parent classes. \n",
    "- Override parent methods in subclasses to implement specific behaviors. \n",
    "- Leverage polymorphism to treat objects of different types as instances of a parent class, allowing for more flexible and dynamic code.\n"
   ]
  },
  {
   "cell_type": "markdown",
   "metadata": {},
   "source": [
    "# Unit 7: \n",
    "My lesson!!\n",
    "\n",
    "My impact to our group was:\n",
    "- lesson 7.3 and 7.7\n",
    "I worked alot of how to move through these arrays which proved to be a challenge as my lesson was in the middle of the unit. \n",
    "- I also helped with grading as we made sure that each person has thorough understandings of our lesson.\n",
    "- I went a step further as I made sure that those who submitted early really got the understanding that I know they were close too. A few people were Nitin and Lillian who gained a thorough understanding through me helping them out afterward.\n",
    "\n",
    "# memories:\n",
    "Overall it was so fun doing the jepordy game as it kept everyone on their toes and really let us discover a few new things ourselves. It really brought me back to the old team teaches."
   ]
  },
  {
   "cell_type": "markdown",
   "metadata": {},
   "source": [
    "# Connect to PBL\n",
    "\n",
    "**Overview:**\n",
    "1. College Application Tracker\n",
    "Description: This feature would allow students to input the colleges they are applying to, track application deadlines, essay prompts, and submission statuses. Students could receive reminders for due dates and view their progress in real time.\n",
    "Full-Stack Aspect:\n",
    "Frontend: A dashboard that displays the list of schools, deadlines, and progress bars.\n",
    "Backend: A database to store college information, application deadlines, and status updates for each user.\n",
    "Advanced Feature: Integration with college portals' API to pull deadlines automatically.\n",
    "2. Personalized College Match\n",
    "Description: Based on the student’s interests, academic performance (GPA, SAT/ACT), and extracurriculars, this feature would recommend potential colleges and rank them based on their compatibility.\n",
    "Full-Stack Aspect:\n",
    "Frontend: A questionnaire form for students to input their information, and a results page with a ranked list of colleges.\n",
    "Backend: A recommendation engine that matches students to colleges based on stored data (e.g., a college database).\n",
    "Advanced Feature: Use an AI algorithm to predict the likelihood of acceptance based on historical data.\n",
    "3. Essay Writing Feedback\n",
    "Description: A tool where students can draft their essays and get feedback on structure, grammar, and content. The tool can suggest improvements based on college-specific prompts.\n",
    "Full-Stack Aspect:\n",
    "Frontend: A rich-text editor for writing and submitting essays, with a side panel for feedback.\n",
    "Backend: An API or server-side tool that analyzes text, giving feedback on readability, grammar, and alignment with prompts.\n",
    "Advanced Feature: Use machine learning for essay quality predictions, offering tailored suggestions."
   ]
  },
  {
   "cell_type": "markdown",
   "metadata": {},
   "source": [
    "# Presonalized college tracker\n",
    "- a must in this project aspect would be a 2D array\n",
    "- when adding the college list for any user to search through, a 2D array would be itterated through for each persons resume. **taught by davids group**\n",
    "- most likely an AI api would also be in use to grab key words to search for.\n",
    "- We got this idea from all of our discussions with Drishya about college and what plans we had for the future. It turley is a journy to search through colleges and learn exactly whats suited for you. \n",
    "- **this would be limited to the US for colleges**."
   ]
  },
  {
   "cell_type": "markdown",
   "metadata": {},
   "source": [
    "| **Assignment**          | **Weightage** | **Grade** | **Comments** |\n",
    "|-------------------------|---------------|-----------|--------------|\n",
    "| College Board Coverage  | 20            | 17 | Strongly covered every topic related to college board with a few direct examples from their lessons |\n",
    "| Java Examples           | 30            | 28| A lot of examples were provided to show syntax and implementation for students|\n",
    "| Popcorn Hack Usage      | 10            | 10 | There was a large amount of popcorn hacks that ensured everyone knew what were talking about. The jeopardy questions were very interesting and it told us who was paying attention|\n",
    "| Homework                | 10            | 9| Homework was thorough and simple enough to not bored students and still ensure that they learned what we taught |\n",
    "| Grading Plan            | 10            |  7     | Mostly even split of work. We could have put more work towards planning how to grade specifically |\n",
    "| Original an Creative    | 10            |  9     | very few examples were direct copies from college board and our jeopardy game was unique and engaged a lot of people |\n",
    "| Total                  | **90**        |    80       |              |"
   ]
  }
 ],
 "metadata": {
  "language_info": {
   "name": "python"
  }
 },
 "nbformat": 4,
 "nbformat_minor": 2
}
