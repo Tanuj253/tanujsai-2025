{
 "cells": [
  {
   "cell_type": "markdown",
   "metadata": {},
   "source": [
    "---\n",
    "layout: post\n",
    "title: Unit 8 hw\n",
    "description: Unit 8\n",
    "type: issues \n",
    "comments: true\n",
    "---"
   ]
  },
  {
   "cell_type": "markdown",
   "metadata": {},
   "source": [
    "Popcorn \n",
    "# Hack 1\n",
    "What’s wrong with this code:"
   ]
  },
  {
   "cell_type": "code",
   "execution_count": null,
   "metadata": {
    "vscode": {
     "languageId": "java"
    }
   },
   "outputs": [],
   "source": [
    "int[][] exampleArray = {\n",
    "    {\"Hello\", \"World\"},\n",
    "    {\"Java\", \"Array\"}\n",
    "};"
   ]
  },
  {
   "cell_type": "markdown",
   "metadata": {},
   "source": [
    "answer: the data type is set wrong"
   ]
  },
  {
   "cell_type": "markdown",
   "metadata": {},
   "source": [
    "# Hack 2: \n",
    "How many total elements can this 2D array hold, and how would you calculate it?"
   ]
  },
  {
   "cell_type": "code",
   "execution_count": null,
   "metadata": {
    "vscode": {
     "languageId": "java"
    }
   },
   "outputs": [],
   "source": [
    "int[][] matrix = new int[2][3];"
   ]
  },
  {
   "cell_type": "markdown",
   "metadata": {},
   "source": [
    "12 elements total. this is calculated through the slots that first state 2(0,1,2) which translates to 3 rows then the second slot declaring 3(0,1,2,3) or four collumns. with three rows and four collumns, it is safe to assume that there can be at least 12 items in this array.\n",
    "\n",
    "# Hack 3\n",
    "Answer is D since this 2d array is rectangular and has 7 rows and 4 collumns\n",
    "\n",
    "# Try on your own:\n",
    "Write a code to declare and initialize a 2D array that stores the following matrix: 1 2 3 4 5 6 7 8 9"
   ]
  },
  {
   "cell_type": "code",
   "execution_count": 3,
   "metadata": {
    "vscode": {
     "languageId": "java"
    }
   },
   "outputs": [
    {
     "name": "stdout",
     "output_type": "stream",
     "text": [
      "[[1, 2, 3], [4, 5, 6], [7, 8, 9]]\n"
     ]
    }
   ],
   "source": [
    "public class ArrayPractice {\n",
    "    public static void main(String[] args) {\n",
    "        // Declare and initialize a 2D array\n",
    "        int[][] array = {\n",
    "            {1, 2, 3},\n",
    "            {4, 5, 6},\n",
    "            {7, 8, 9}\n",
    "        };\n",
    "\n",
    "        // Print the 2D array using Arrays.deepToString() to handle nested arrays\n",
    "        System.out.println(java.util.Arrays.deepToString(array));\n",
    "    }\n",
    "}\n",
    "\n",
    "ArrayPractice.main(null);"
   ]
  },
  {
   "cell_type": "markdown",
   "metadata": {},
   "source": [
    "# try on your own:\n",
    "Write the code to change the element “Java” to “Programming”"
   ]
  },
  {
   "cell_type": "code",
   "execution_count": 2,
   "metadata": {
    "vscode": {
     "languageId": "java"
    }
   },
   "outputs": [
    {
     "data": {
      "text/plain": [
       "Programming"
      ]
     },
     "execution_count": 2,
     "metadata": {},
     "output_type": "execute_result"
    }
   ],
   "source": [
    "String[][] hack = {\n",
    "    {\"Hello\", \"World\"},\n",
    "    {\"Java\", \"Array\"}\n",
    "};\n",
    "\n",
    "//Insert code below:\n",
    "hack[1][0] = \"Programming\";"
   ]
  },
  {
   "cell_type": "markdown",
   "metadata": {},
   "source": [
    "# Hack 4:\n",
    "Answer is a bc a indicated the third row second collumn while c indicates third row first collumn."
   ]
  },
  {
   "cell_type": "markdown",
   "metadata": {},
   "source": [
    "# hack 5:\n",
    "An array called find is shown below. In this popcorn hack, I want you to loop through the numbers until you get to the number that doesn’t belong (55). Then print that number along with which row and column it is located in."
   ]
  },
  {
   "cell_type": "code",
   "execution_count": 5,
   "metadata": {
    "vscode": {
     "languageId": "java"
    }
   },
   "outputs": [
    {
     "name": "stdout",
     "output_type": "stream",
     "text": [
      "Number is: 55\n",
      "At row: 1, column: 1\n"
     ]
    }
   ],
   "source": [
    "public class Main {\n",
    "    public static void main(String[] args) {\n",
    "        int find[][] = {\n",
    "            {10, 20, 30},\n",
    "            {40, 55, 60},\n",
    "            {70, 80, 90},\n",
    "        };\n",
    "\n",
    "        // Loop through the array\n",
    "        for (int i = 0; i < find.length; i++) {\n",
    "            for (int j = 0; j < find[i].length; j++) {\n",
    "                // Check if the current number is 55\n",
    "                if (find[i][j] == 55) {\n",
    "                    // Print the number and its location\n",
    "                    System.out.println(\"Number is: \" + find[i][j]);\n",
    "                    System.out.println(\"At row: \" + i + \", column: \" + j);\n",
    "                    return; // Stop the loop once 55 is found\n",
    "                }\n",
    "            }\n",
    "        }\n",
    "    }\n",
    "}\n",
    "\n",
    "Main.main(null);\n"
   ]
  },
  {
   "cell_type": "markdown",
   "metadata": {},
   "source": [
    "# Hack 6:\n",
    "Create your own 2D array and use either binary search or linear search. (maybe both 😏)"
   ]
  },
  {
   "cell_type": "code",
   "execution_count": 8,
   "metadata": {
    "vscode": {
     "languageId": "java"
    }
   },
   "outputs": [
    {
     "name": "stdout",
     "output_type": "stream",
     "text": [
      "Found at: [1, 1]\n",
      "Found at index (1D): 4\n"
     ]
    }
   ],
   "source": [
    "import java.util.Arrays;\n",
    "\n",
    "public class Main {\n",
    "    public static void main(String[] args) {\n",
    "        int[][] array = {\n",
    "            {10, 20, 30},\n",
    "            {40, 50, 60},\n",
    "            {70, 80, 90}\n",
    "        };\n",
    "\n",
    "        int target = 50;\n",
    "\n",
    "        // Linear Search\n",
    "        int[] linearResult = linearSearch(array, target);\n",
    "        if (linearResult[0] != -1) {\n",
    "            System.out.println(\"Found at: \" + Arrays.toString(linearResult));\n",
    "        } else {\n",
    "            System.out.println(\"Not found.\");\n",
    "        }\n",
    "\n",
    "        // Binary Search\n",
    "        int binaryResult = binarySearchIn2DArray(array, target);\n",
    "        if (binaryResult != -1) {\n",
    "            System.out.println(\"Found at index (1D): \" + binaryResult);\n",
    "        } else {\n",
    "            System.out.println(\"Not found.\");\n",
    "        }\n",
    "    }\n",
    "\n",
    "    static int[] linearSearch(int[][] arr, int target) {\n",
    "        for (int i = 0; i < arr.length; i++) {\n",
    "            for (int j = 0; j < arr[i].length; j++) {\n",
    "                if (arr[i][j] == target) {\n",
    "                    return new int[] {i, j};\n",
    "                }\n",
    "            }\n",
    "        }\n",
    "        return new int[] {-1, -1};\n",
    "    }\n",
    "\n",
    "    static int binarySearchIn2DArray(int[][] arr, int target) {\n",
    "        int[] flatArray = Arrays.stream(arr).flatMapToInt(Arrays::stream).toArray();\n",
    "        return Arrays.binarySearch(flatArray, target);\n",
    "    }\n",
    "}\n",
    "\n",
    "Main.main(null);"
   ]
  },
  {
   "cell_type": "markdown",
   "metadata": {},
   "source": [
    "# Hack 7:\n",
    "Write a code that performs global sorting on your own 2D array."
   ]
  },
  {
   "cell_type": "code",
   "execution_count": 7,
   "metadata": {
    "vscode": {
     "languageId": "java"
    }
   },
   "outputs": [
    {
     "name": "stdout",
     "output_type": "stream",
     "text": [
      "Element found at: Row 2, Column 0\n",
      "Sorted 2D Array: [[1, 2, 5], [6, 7, 8], [10, 12, 14]]\n"
     ]
    }
   ],
   "source": [
    "import java.util.Arrays;\n",
    "\n",
    "public class PopcornHack {\n",
    "    public static void main(String[] args) {\n",
    "        // Step 1: Create a 2D array\n",
    "        int[][] array = {\n",
    "            {12, 5, 8},\n",
    "            {7, 14, 2},\n",
    "            {10, 1, 6}\n",
    "        };\n",
    "\n",
    "        // Step 2: Define your target number\n",
    "        int target = 10;\n",
    "\n",
    "        // Step 3: Call the search method (Linear Search)\n",
    "        int[] result = linearSearch(array, target);\n",
    "\n",
    "        // Step 4: Output the result\n",
    "        if (result[0] != -1) {\n",
    "            System.out.println(\"Element found at: Row \" + result[0] + \", Column \" + result[1]);\n",
    "        } else {\n",
    "            System.out.println(\"Element not found.\");\n",
    "        }\n",
    "\n",
    "        // Perform global sorting on the array\n",
    "        int[][] sortedArray = globalSort(array);\n",
    "        System.out.println(\"Sorted 2D Array: \" + Arrays.deepToString(sortedArray));\n",
    "    }\n",
    "\n",
    "    // Option 1: Linear Search\n",
    "    static int[] linearSearch(int[][] arr, int target) {\n",
    "        for (int i = 0; i < arr.length; i++) {\n",
    "            for (int j = 0; j < arr[i].length; j++) {\n",
    "                if (arr[i][j] == target) {\n",
    "                    return new int[]{i, j};  // Return the row and column index\n",
    "                }\n",
    "            }\n",
    "        }\n",
    "        return new int[]{-1, -1};  // Return -1 if the target is not found\n",
    "    }\n",
    "\n",
    "    // Global sorting of a 2D array\n",
    "    static int[][] globalSort(int[][] arr) {\n",
    "        // Flatten the 2D array into 1D\n",
    "        int rows = arr.length;\n",
    "        int cols = arr[0].length;\n",
    "        int[] flatArray = new int[rows * cols];\n",
    "\n",
    "        int k = 0;  // Index for 1D array\n",
    "        for (int i = 0; i < rows; i++) {\n",
    "            for (int j = 0; j < cols; j++) {\n",
    "                flatArray[k++] = arr[i][j];\n",
    "            }\n",
    "        }\n",
    "\n",
    "        // Sort the 1D array\n",
    "        Arrays.sort(flatArray);\n",
    "\n",
    "        // Convert the 1D array back into a 2D array\n",
    "        k = 0;  // Reset index for 1D array\n",
    "        int[][] sorted2DArray = new int[rows][cols];\n",
    "        for (int i = 0; i < rows; i++) {\n",
    "            for (int j = 0; j < cols; j++) {\n",
    "                sorted2DArray[i][j] = flatArray[k++];\n",
    "            }\n",
    "        }\n",
    "\n",
    "        return sorted2DArray;\n",
    "    }\n",
    "}\n",
    "\n",
    "PopcornHack.main(null);"
   ]
  },
  {
   "cell_type": "markdown",
   "metadata": {},
   "source": [
    "# HW Q1:\n",
    "Answer is B:\n",
    "first the program will run through the rows 0,1,2 resulting in \"my\" \"ap\" then \"CS\" from collumn 0. then collumn 1 will be run through with rows 0,1,2 resulting in \"A\" \"class\" \"rocks\""
   ]
  },
  {
   "cell_type": "markdown",
   "metadata": {},
   "source": [
    "# Hw Hack 2:\n",
    "Write a program to search through a 2d array to find the grade for John. You will be given a list of students and their grades and you must find the grade of John. If a student is not in the list, then return “Student not found”."
   ]
  },
  {
   "cell_type": "code",
   "execution_count": 6,
   "metadata": {
    "vscode": {
     "languageId": "java"
    }
   },
   "outputs": [
    {
     "name": "stdout",
     "output_type": "stream",
     "text": [
      "John's grade: 93\n",
      "Alice's grade: 85\n",
      "Charlie's grade: Student not found\n"
     ]
    }
   ],
   "source": [
    "public class GradeSearch {\n",
    "    public static String searchGrade(String[][] grades, String name) {\n",
    "        // Loop through each row in the 2D array\n",
    "        for (String[] student : grades) {\n",
    "            // Check if the student's name matches the name we are searching for\n",
    "            if (student[0].equals(name)) {\n",
    "                // Return the grade if the name matches\n",
    "                return student[1];\n",
    "            }\n",
    "        }\n",
    "        // If we finish the loop and don't find the student, return \"Student not found\"\n",
    "        return \"Student not found\";\n",
    "    }\n",
    "    public static void main(String[] args) {\n",
    "        // Sample 2D array with names and grades\n",
    "        String[][] grades = {\n",
    "            {\"John\", \"93\"},\n",
    "            {\"Alice\", \"85\"},\n",
    "            {\"Bob\", \"78\"},\n",
    "            {\"Eve\", \"92\"}\n",
    "        };\n",
    "\n",
    "        // Test the search function for various names\n",
    "        String nameToSearch = \"John\";\n",
    "        String grade = searchGrade(grades, nameToSearch);\n",
    "        System.out.println(nameToSearch + \"'s grade: \" + grade);\n",
    "\n",
    "        nameToSearch = \"Alice\";\n",
    "        grade = searchGrade(grades, nameToSearch);\n",
    "        System.out.println(nameToSearch + \"'s grade: \" + grade);\n",
    "\n",
    "        nameToSearch = \"Charlie\";\n",
    "        grade = searchGrade(grades, nameToSearch);\n",
    "        System.out.println(nameToSearch + \"'s grade: \" + grade);\n",
    "    }\n",
    "}\n",
    "\n",
    "GradeSearch.main(null);"
   ]
  }
 ],
 "metadata": {
  "kernelspec": {
   "display_name": "Java",
   "language": "java",
   "name": "java"
  },
  "language_info": {
   "codemirror_mode": "java",
   "file_extension": ".jshell",
   "mimetype": "text/x-java-source",
   "name": "Java",
   "pygments_lexer": "java",
   "version": "17.0.12+7-Ubuntu-1ubuntu222.04"
  }
 },
 "nbformat": 4,
 "nbformat_minor": 2
}
