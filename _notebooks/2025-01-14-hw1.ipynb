{
 "cells": [
  {
   "cell_type": "markdown",
   "metadata": {},
   "source": [
    "---\n",
    "layout: post\n",
    "title: Recursion\n",
    "description: hw\n",
    "comments: true\n",
    "---"
   ]
  },
  {
   "cell_type": "markdown",
   "metadata": {},
   "source": [
    "popcorn hack #1"
   ]
  },
  {
   "cell_type": "code",
   "execution_count": null,
   "metadata": {
    "vscode": {
     "languageId": "plaintext"
    }
   },
   "outputs": [],
   "source": [
    "public static int factorial(int target) {\n",
    "    // Base case: 0! or 1! = 1\n",
    "    if (target == 0 || target == 1) {\n",
    "        return 1;\n",
    "    }\n",
    "    // Recursive case: n! = n * (n - 1)!\n",
    "    return target * factorial(target - 1);\n",
    "}"
   ]
  },
  {
   "cell_type": "markdown",
   "metadata": {},
   "source": [
    "popcorn hack #2"
   ]
  },
  {
   "cell_type": "code",
   "execution_count": null,
   "metadata": {
    "vscode": {
     "languageId": "plaintext"
    }
   },
   "outputs": [],
   "source": [
    "public static int sumArray(int[] arr, int index) {\n",
    "    // Base case: If the index is out of bounds, stop recursion\n",
    "    if (index >= arr.length) {\n",
    "        return 0;\n",
    "    }\n",
    "    // Recursive case: Add the current element to the sum of the rest of the array\n",
    "    return arr[index] + sumArray(arr, index + 1);\n",
    "}"
   ]
  },
  {
   "cell_type": "markdown",
   "metadata": {},
   "source": [
    "popcorn hack #3"
   ]
  },
  {
   "cell_type": "code",
   "execution_count": null,
   "metadata": {
    "vscode": {
     "languageId": "plaintext"
    }
   },
   "outputs": [],
   "source": [
    "public static void selectionSort(int[] arr, int index) {\n",
    "    // Base case: If the index reaches the end of the array, stop recursion\n",
    "    if (index >= arr.length - 1) {\n",
    "        return;\n",
    "    }\n",
    "\n",
    "    // Find the minimum element in the subarray (from index to end)\n",
    "    int minIndex = index;\n",
    "    for (int i = index + 1; i < arr.length; i++) {\n",
    "        if (arr[i] < arr[minIndex]) {\n",
    "            minIndex = i;\n",
    "        }\n",
    "    }\n",
    "\n",
    "    // Swap the current element with the minimum element\n",
    "    int temp = arr[index];\n",
    "    arr[index] = arr[minIndex];\n",
    "    arr[minIndex] = temp;\n",
    "\n",
    "    // Recursively call selectionSort for the rest of the array\n",
    "    selectionSort(arr, index + 1);\n",
    "}"
   ]
  },
  {
   "cell_type": "code",
   "execution_count": null,
   "metadata": {
    "vscode": {
     "languageId": "plaintext"
    }
   },
   "outputs": [],
   "source": [
    "import java.util.ArrayList;\n",
    "import java.util.Collections;\n",
    "import java.util.Comparator;\n",
    "import java.util.List;\n",
    "\n",
    "public class HomeworkHack {\n",
    "    public static class Student {\n",
    "        String name;\n",
    "        int efficiency, collab, iq;\n",
    "        int performanceScore;\n",
    "\n",
    "        public Student(String name, int efficiency, int collab, int iq) {\n",
    "            this.name = name;\n",
    "            this.efficiency = efficiency;\n",
    "            this.collab = collab;\n",
    "            this.iq = iq;\n",
    "            this.performanceScore = calculatePerformanceScore();\n",
    "        }\n",
    "\n",
    "        public int calculatePerformanceScore() {\n",
    "            return (collab * 2) + (iq * 3) + efficiency;\n",
    "        }\n",
    "\n",
    "        @Override\n",
    "        public String toString() {\n",
    "            return name + \": \" + performanceScore;\n",
    "        }\n",
    "    }\n",
    "\n",
    "    public static void main(String[] args) {\n",
    "        // Create the list of students\n",
    "        List<Student> students = new ArrayList<>();\n",
    "        students.add(new Student(\"srijus\", 92, 98, 95));\n",
    "        students.add(new Student(\"aadit\", 97, 95, 97));\n",
    "        students.add(new Student(\"erox\", 89, 90, 93));\n",
    "        students.add(new Student(\"shubs\", 90, 92, 94));\n",
    "        students.add(new Student(\"aashray\", 59, 50, 53));\n",
    "\n",
    "        // Sort students by performance score in descending order\n",
    "        Collections.sort(students, new Comparator<Student>() {\n",
    "            @Override\n",
    "            public int compare(Student s1, Student s2) {\n",
    "                return s2.performanceScore - s1.performanceScore;\n",
    "            }\n",
    "        });\n",
    "\n",
    "        // Print sorted students\n",
    "        System.out.println(\"Sorted Students by Performance Score:\");\n",
    "        for (Student student : students) {\n",
    "            System.out.println(student);\n",
    "        }\n",
    "    }\n",
    "\n",
    "    // SumArray function for summing elements up to a given index\n",
    "    public static int sumArray(int[] arr, int index) { \n",
    "        int sum = 0;\n",
    "        for (int i = 0; i <= index; i++) {\n",
    "            sum += arr[i];\n",
    "        }\n",
    "        return sum;\n",
    "    }\n",
    "}"
   ]
  }
 ],
 "metadata": {
  "language_info": {
   "name": "python"
  }
 },
 "nbformat": 4,
 "nbformat_minor": 2
}
