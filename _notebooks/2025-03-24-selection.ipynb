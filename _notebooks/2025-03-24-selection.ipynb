{
 "cells": [
  {
   "cell_type": "markdown",
   "metadata": {},
   "source": [
    "---\n",
    "layout: post\n",
    "title: Selection sort hw\n",
    "description: hw\n",
    "comments: true\n",
    "---"
   ]
  },
  {
   "cell_type": "markdown",
   "metadata": {},
   "source": [
    "Insertion Sort Step-by-Step for [42, 17, 29, 8, 35]\n",
    "\n",
    "Insertion Sort works by building a sorted section of the array one element at a time.\n",
    "\n",
    "Initial Array:\n",
    "\n",
    "[42, 17, 29, 8, 35]\n",
    "\n",
    "Step 1: Compare 17 with 42, insert in correct position\n",
    "\n",
    "[17, 42, 29, 8, 35]\n",
    "Comparisons: 1 (17 < 42)\n",
    "Swaps: 1\n",
    "\n",
    "Step 2: Compare 29 with 42, then with 17, insert in correct position\n",
    "\n",
    "[17, 29, 42, 8, 35]\n",
    "Comparisons: 2 (29 < 42, 29 > 17)\n",
    "Swaps: 1\n",
    "\n",
    "Step 3: Compare 8 with 42, 29, and 17, insert in correct position\n",
    "\n",
    "[8, 17, 29, 42, 35]\n",
    "Comparisons: 3 (8 < 42, 8 < 29, 8 < 17)\n",
    "Swaps: 3\n",
    "\n",
    "Step 4: Compare 35 with 42, 35 with 29, insert in correct position\n",
    "\n",
    "[8, 17, 29, 35, 42]\n",
    "Comparisons: 2 (35 < 42, 35 > 29)\n",
    "Swaps: 1\n",
    "\n",
    "⸻\n",
    "\n",
    "Total Comparisons and Swaps\n",
    "\t•\tComparisons: 1 + 2 + 3 + 2 = 8\n",
    "\t•\tSwaps: 1 + 1 + 3 + 1 = 6\n",
    "\n",
    "⸻\n",
    "\n",
    "Time Complexity\n",
    "\t•\tBest Case (Already Sorted): O(n)\n",
    "\t•\tWorst Case (Reverse Order): O(n^2)"
   ]
  }
 ],
 "metadata": {
  "language_info": {
   "name": "python"
  }
 },
 "nbformat": 4,
 "nbformat_minor": 2
}
