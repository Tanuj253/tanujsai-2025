{
 "cells": [
  {
   "cell_type": "markdown",
   "metadata": {},
   "source": [
    "---\n",
    "layout: post\n",
    "title: Github Pages hacks\n",
    "description:  Chess game\n",
    "type: issues \n",
    "comments: true\n",
    "---"
   ]
  },
  {
   "cell_type": "markdown",
   "metadata": {},
   "source": [
    "# Interactive Chess Game\n",
    "\n",
    "Welcome to the Interactive Chess Game project! This project demonstrates how to build a basic chess game using HTML, CSS, and JavaScript, and deploy it using GitHub Pages.\n",
    "\n",
    "## Project Overview\n",
    "\n",
    "This project includes:\n",
    "- A chessboard layout.\n",
    "- Basic chess pieces with initial positions.\n",
    "- A live deployment on GitHub Pages.\n",
    "- uses SASS and other tools"
   ]
  }
 ],
 "metadata": {
  "language_info": {
   "name": "python"
  }
 },
 "nbformat": 4,
 "nbformat_minor": 2
}
