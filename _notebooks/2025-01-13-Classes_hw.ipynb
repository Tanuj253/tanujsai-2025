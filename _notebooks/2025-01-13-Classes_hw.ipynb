{
 "cells": [
  {
   "cell_type": "markdown",
   "metadata": {},
   "source": [
    "---\n",
    "layout: post\n",
    "title: Classes hw\n",
    "comments: true\n",
    "---"
   ]
  },
  {
   "cell_type": "markdown",
   "metadata": {},
   "source": [
    "popcorn hack #1"
   ]
  },
  {
   "cell_type": "code",
   "execution_count": null,
   "metadata": {
    "vscode": {
     "languageId": "plaintext"
    }
   },
   "outputs": [],
   "source": [
    "public class Cat {\n",
    "    // Instance variable\n",
    "    private String sound;\n",
    "\n",
    "    // Constructor\n",
    "    public Cat(String noise) {\n",
    "        this.sound = noise;\n",
    "    }\n",
    "\n",
    "    // Method to return the noise in lowercase\n",
    "    public String makeQuietNoise() {\n",
    "        // Return null if the noise is an empty string\n",
    "        if (sound == null || sound.isEmpty()) {\n",
    "            return null;\n",
    "        }\n",
    "        return sound.toLowerCase();\n",
    "    }\n",
    "\n",
    "    // Main method for testing\n",
    "    public static void main(String[] args) {\n",
    "        // Test case 1: Normal noise\n",
    "        Cat cat = new Cat(\"MEOW\");\n",
    "        System.out.println(\"Quiet Noise: \" + cat.makeQuietNoise()); // Expected: \"meow\"\n",
    "\n",
    "        // Test case 2: Empty string\n",
    "        Cat emptyCat = new Cat(\"\");\n",
    "        System.out.println(\"Quiet Noise (empty): \" + emptyCat.makeQuietNoise()); // Expected: null\n",
    "    }\n",
    "}"
   ]
  },
  {
   "cell_type": "markdown",
   "metadata": {},
   "source": [
    "popcorn hack #2"
   ]
  },
  {
   "cell_type": "code",
   "execution_count": null,
   "metadata": {
    "vscode": {
     "languageId": "plaintext"
    }
   },
   "outputs": [],
   "source": [
    "public class Cat {\n",
    "    // Instance variable\n",
    "    private String sound;\n",
    "\n",
    "    // Constructor\n",
    "    public Cat(String noise) {\n",
    "        this.sound = noise;\n",
    "    }\n",
    "\n",
    "    // Method to return the noise in reverse order\n",
    "    public String makeReverseNoise() {\n",
    "        // Return null if the noise is an empty string\n",
    "        if (sound == null || sound.isEmpty()) {\n",
    "            return null;\n",
    "        }\n",
    "        return new StringBuilder(sound).reverse().toString();\n",
    "    }\n",
    "\n",
    "    // Main method for testing\n",
    "    public static void main(String[] args) {\n",
    "        // Test case 1: Normal noise\n",
    "        Cat cat = new Cat(\"Meow\");\n",
    "        System.out.println(\"Reverse Noise: \" + cat.makeReverseNoise()); // Expected: \"woeM\"\n",
    "\n",
    "        // Test case 2: Empty string\n",
    "        Cat emptyCat = new Cat(\"\");\n",
    "        System.out.println(\"Reverse Noise (empty): \" + emptyCat.makeReverseNoise()); // Expected: null\n",
    "    }\n",
    "}"
   ]
  },
  {
   "cell_type": "markdown",
   "metadata": {},
   "source": [
    "Hw:"
   ]
  },
  {
   "cell_type": "code",
   "execution_count": null,
   "metadata": {
    "vscode": {
     "languageId": "plaintext"
    }
   },
   "outputs": [],
   "source": [
    "public class MultPractice implements StudyPractice {\n",
    "    private int first; // The constant first integer\n",
    "    private int second; // The current second integer\n",
    "\n",
    "    // Constructor to initialize the MultPractice object\n",
    "    public MultPractice(int first, int second) {\n",
    "        this.first = first;\n",
    "        this.second = second;\n",
    "    }\n",
    "\n",
    "    // Method to return the current practice problem\n",
    "    @Override\n",
    "    public String getProblem() {\n",
    "        return first + \" TIMES \" + second;\n",
    "    }\n",
    "\n",
    "    // Method to update the state of the object to the next practice problem\n",
    "    @Override\n",
    "    public void nextProblem() {\n",
    "        second++; // Increment the second integer for the next problem\n",
    "    }\n",
    "\n",
    "    // Main method for testing\n",
    "    public static void main(String[] args) {\n",
    "        // Example 1\n",
    "        StudyPractice p1 = new MultPractice(7, 3);\n",
    "        System.out.println(p1.getProblem()); // Expected: \"7 TIMES 3\"\n",
    "        p1.nextProblem();\n",
    "        System.out.println(p1.getProblem()); // Expected: \"7 TIMES 4\"\n",
    "        p1.nextProblem();\n",
    "        System.out.println(p1.getProblem()); // Expected: \"7 TIMES 5\"\n",
    "        p1.nextProblem();\n",
    "        System.out.println(p1.getProblem()); // Expected: \"7 TIMES 6\"\n",
    "\n",
    "        // Example 2\n",
    "        StudyPractice p2 = new MultPractice(4, 12);\n",
    "        p2.nextProblem();\n",
    "        System.out.println(p2.getProblem()); // Expected: \"4 TIMES 13\"\n",
    "        System.out.println(p2.getProblem()); // Expected: \"4 TIMES 13\"\n",
    "        p2.nextProblem();\n",
    "        p2.nextProblem();\n",
    "        System.out.println(p2.getProblem()); // Expected: \"4 TIMES 15\"\n",
    "        p2.nextProblem();\n",
    "        System.out.println(p2.getProblem()); // Expected: \"4 TIMES 16\"\n",
    "    }\n",
    "}"
   ]
  }
 ],
 "metadata": {
  "language_info": {
   "name": "python"
  }
 },
 "nbformat": 4,
 "nbformat_minor": 2
}
