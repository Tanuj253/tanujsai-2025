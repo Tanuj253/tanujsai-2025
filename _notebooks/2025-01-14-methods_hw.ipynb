{
 "cells": [
  {
   "cell_type": "markdown",
   "metadata": {},
   "source": [
    "---\n",
    "layout: post\n",
    "title: Methods and classes hw\n",
    "description: hw\n",
    "comments: true\n",
    "---"
   ]
  },
  {
   "cell_type": "markdown",
   "metadata": {},
   "source": [
    "HW:"
   ]
  },
  {
   "cell_type": "code",
   "execution_count": null,
   "metadata": {
    "vscode": {
     "languageId": "plaintext"
    }
   },
   "outputs": [],
   "source": [
    "public class MazeSolver {\n",
    "\n",
    "    public static boolean solveMaze(char[][] maze, int startX, int startY) {\n",
    "        // Check if the current position is out of bounds or a wall\n",
    "        if (startX < 0 || startX >= maze.length || startY < 0 || startY >= maze[0].length || maze[startX][startY] == '#') {\n",
    "            return false;\n",
    "        }\n",
    "\n",
    "        // Check if the current position is the exit\n",
    "        if (maze[startX][startY] == 'E') {\n",
    "            return true;\n",
    "        }\n",
    "\n",
    "        // Mark the current cell as visited\n",
    "        maze[startX][startY] = '#';\n",
    "\n",
    "        // Recursively explore all four directions: up, down, left, and right\n",
    "        if (solveMaze(maze, startX - 1, startY) || // Up\n",
    "            solveMaze(maze, startX + 1, startY) || // Down\n",
    "            solveMaze(maze, startX, startY - 1) || // Left\n",
    "            solveMaze(maze, startX, startY + 1)) { // Right\n",
    "            return true;\n",
    "        }\n",
    "\n",
    "        // Backtrack: restore the cell to its original state\n",
    "        maze[startX][startY] = ' ';\n",
    "\n",
    "        return false; // No path found from this position\n",
    "    }\n",
    "\n",
    "    // Example for testing\n",
    "    public static void main(String[] args) {\n",
    "        char[][] maze = {\n",
    "            {'#', '#', '#', '#', '#'},\n",
    "            {'#', ' ', ' ', ' ', '#'},\n",
    "            {'#', ' ', '#', ' ', '#'},\n",
    "            {'#', ' ', '#', 'E', '#'},\n",
    "            {'#', '#', '#', '#', '#'}\n",
    "        };\n",
    "\n",
    "        int startX = 1, startY = 1;\n",
    "\n",
    "        if (solveMaze(maze, startX, startY)) {\n",
    "            System.out.println(\"Path to the exit exists!\");\n",
    "        } else {\n",
    "            System.out.println(\"No path to the exit exists.\");\n",
    "        }\n",
    "    }\n",
    "}"
   ]
  }
 ],
 "metadata": {
  "language_info": {
   "name": "python"
  }
 },
 "nbformat": 4,
 "nbformat_minor": 2
}
