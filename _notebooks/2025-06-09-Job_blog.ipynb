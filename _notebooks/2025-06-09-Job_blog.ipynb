{
 "cells": [
  {
   "cell_type": "markdown",
   "metadata": {},
   "source": [
    "---\n",
    "layout: post\n",
    "title: Linked In Review\n",
    "description: hw\n",
    "comments: true\n",
    "---"
   ]
  },
  {
   "cell_type": "code",
   "execution_count": null,
   "metadata": {
    "vscode": {
     "languageId": "plaintext"
    }
   },
   "outputs": [],
   "source": []
  },
  {
   "cell_type": "markdown",
   "metadata": {},
   "source": [
    "Project Overview:\n",
    "\n",
    "end of tri 2:\n",
    "[leaderboard.png](https://postimg.cc/Vdw8knvX)\n",
    "\n",
    "Skills ive obtained throughout these two trimesters:\n",
    "Full API creation though the Rankings Controller which is still used today\n",
    "\n",
    "[api](https://i.postimg.cc/6q1VKfH1/Screenshot-2025-06-09-at-12-34-34-PM.png)\n",
    "\n",
    "present day:\n",
    "I worked with arthur to turn it from the original crypto leaderboard into their now bank leaderboard:\n",
    "[Screenshot-2025-06-09-at-12-17-19-PM.png](https://iili.io/FK5OtDl.png)\n",
    "\n",
    "Working with nandan I created two export features for calendar and assignments:\n",
    "\n",
    "\n",
    "[image](https://i.postimg.cc/QdNDwkLr/Screenshot-2025-06-09-at-12-29-40-PM.png)"
   ]
  },
  {
   "cell_type": "code",
   "execution_count": null,
   "metadata": {
    "vscode": {
     "languageId": "plaintext"
    }
   },
   "outputs": [],
   "source": []
  },
  {
   "cell_type": "markdown",
   "metadata": {},
   "source": []
  },
  {
   "cell_type": "markdown",
   "metadata": {},
   "source": [
    "June Night at the Museum:\n",
    "[Screenshot-2025-06-09-at-12-26-30-PM.png](https://postimg.cc/K4f244MV)"
   ]
  }
 ],
 "metadata": {
  "language_info": {
   "name": "python"
  }
 },
 "nbformat": 4,
 "nbformat_minor": 2
}
