{
 "cells": [
  {
   "cell_type": "markdown",
   "metadata": {},
   "source": [
    "---\n",
    "layout: post\n",
    "title: Linked In Review\n",
    "description: hw\n",
    "comments: true\n",
    "---"
   ]
  },
  {
   "cell_type": "markdown",
   "metadata": {},
   "source": [
    "Project Overview:\n",
    "\n",
    "end of tri 2:\n",
    "[leaderboard.png](https://postimg.cc/Vdw8knvX)\n",
    "\n",
    "present day:\n",
    "I worked with arthur to turn it from the original crypto leaderboard into their now bank leaderboard:\n",
    "[Screenshot-2025-06-09-at-12-17-19-PM.png](https://postimg.cc/WDdRH7Yc)"
   ]
  },
  {
   "cell_type": "markdown",
   "metadata": {},
   "source": [
    "June Night at the Museum:\n",
    "[Screenshot-2025-06-09-at-12-26-30-PM.png](https://postimg.cc/K4f244MV)"
   ]
  }
 ],
 "metadata": {
  "language_info": {
   "name": "python"
  }
 },
 "nbformat": 4,
 "nbformat_minor": 2
}
