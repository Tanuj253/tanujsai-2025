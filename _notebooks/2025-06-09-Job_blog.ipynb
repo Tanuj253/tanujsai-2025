{
 "cells": [
  {
   "cell_type": "markdown",
   "metadata": {},
   "source": [
    "---\n",
    "layout: post\n",
    "title: Linked In Review\n",
    "description: hw\n",
    "comments: true\n",
    "---"
   ]
  },
  {
   "cell_type": "markdown",
   "metadata": {},
   "source": [
    "Project Overview:\n",
    "\n",
    "end of tri 2:\n",
    "[leaderboard.png](https://postimg.cc/Vdw8knvX)\n",
    "\n",
    "Skills ive obtained:\n",
    "Full API creation which is activily in use still used today\n",
    "\n",
    "[api](https://i.postimg.cc/6q1VKfH1/Screenshot-2025-06-09-at-12-34-34-PM.png)\n",
    "\n",
    "\n",
    "Spring feature developement:\n",
    "\n",
    "[screenshot of spring backend]()\n",
    "\n",
    "\n",
    "frontend(html & CSS):\n",
    "[crypto frontend]()\n",
    "[leaderboard original frontend]()\n",
    "\n",
    "Transformed my original work into an integration for mass use:\n",
    "<a href=\"https://freeimage.host/i/FK5OtDl\"><img src=\"https://iili.io/FK5OtDl.th.png\" alt=\"FK5OtDl.th.png\" border=\"0\"></a>\n",
    "\n",
    "\n",
    "\n",
    "Personal refereces:\n",
    "[Linked in](https://www.linkedin.com/in/tanujsai-nimmagadda-2a18b3302/)\n",
    "[Post discussing project and experience](https://www.linkedin.com/posts/tanujsai-nimmagadda-2a18b3302_throughout-the-last-two-years-ive-made-activity-7338283496668295169-4kTm?utm_source=share&utm_medium=member_desktop&rcm=ACoAAE1gENkBCMx2gj2UOvfVuaD_fnWDpFNzIK8)\n",
    "[enlightening issue of previous work/progress](https://github.com/Tanuj253/tanujsai-2025/issues/10)\n",
    "\n",
    "my V card:\n",
    "[v-card](https://tanuj253.github.io/tanujsai-2025/v-card)\n",
    "\n",
    "<img src=\"{{site.baseurl}}/images/vcard.png\" width = 500px height = auto alt=\"image1\">"
   ]
  },
  {
   "cell_type": "markdown",
   "metadata": {},
   "source": [
    "June Night at the Museum:\n",
    "\n",
    "[Screenshot-2025-06-09-at-12-26-30-PM.png](https://postimg.cc/K4f244MV)\n"
   ]
  },
  {
   "cell_type": "markdown",
   "metadata": {},
   "source": [
    "My commits and work:\n",
    "<img src=\"{{site.baseurl}}/images/Commits.png\" width = 500px height = auto alt=\"image1\">\n",
    "\n",
    "Open coding grader:\n",
    "<img src=\"{{site.baseurl}}/images/Grade_predictor.png\" width = 500px height = auto alt=\"image1\">"
   ]
  },
  {
   "cell_type": "code",
   "execution_count": null,
   "metadata": {
    "vscode": {
     "languageId": "plaintext"
    }
   },
   "outputs": [],
   "source": []
  },
  {
   "cell_type": "code",
   "execution_count": null,
   "metadata": {
    "vscode": {
     "languageId": "plaintext"
    }
   },
   "outputs": [],
   "source": []
  },
  {
   "cell_type": "markdown",
   "metadata": {},
   "source": []
  }
 ],
 "metadata": {
  "language_info": {
   "name": "python"
  }
 },
 "nbformat": 4,
 "nbformat_minor": 2
}
