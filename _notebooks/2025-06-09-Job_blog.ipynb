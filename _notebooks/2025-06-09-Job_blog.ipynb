{
 "cells": [
  {
   "cell_type": "markdown",
   "metadata": {},
   "source": [
    "---\n",
    "layout: post\n",
    "title: Linked In Review\n",
    "description: hw\n",
    "comments: true\n",
    "---"
   ]
  },
  {
   "cell_type": "markdown",
   "metadata": {},
   "source": [
    "Project Overview:\n",
    "\n",
    "end of tri 2:\n",
    "[Overview](https://github.com/Tanuj253/tanujsai-2025/issues/10)\n",
    "\n",
    "Skills ive obtained:\n",
    "Full API creation which is activily in use still used today\n",
    "\n",
    "<img src=\"{{site.baseurl}}/images/Rankings_Controller.png\" width = 500px height = auto alt=\"image1\">\n",
    "\n",
    "\n",
    "Spring feature developement:\n",
    "\n",
    "<img src=\"{{site.baseurl}}/images/backend_feature.png\" width = 500px height = auto alt=\"image1\">\n",
    "\n",
    "\n",
    "frontend(html & CSS):\n",
    "<img src=\"{{site.baseurl}}/images/Crypto.png\" width = 500px height = auto alt=\"image1\">\n",
    "<img src=\"{{site.baseurl}}/images/leaderboard.png\" width = 500px height = auto alt=\"image1\">\n",
    "\n",
    "Transformed my original work into an integration for mass use:\n",
    "<img src=\"{{site.baseurl}}/images/New_leaderboard.png\" width = 500px height = auto alt=\"image1\">\n",
    "\n",
    "\n",
    "\n",
    "# Personal refereces:\n",
    "[Linked in](https://www.linkedin.com/in/tanujsai-nimmagadda-2a18b3302/)\n",
    "[Post discussing project and experience](https://www.linkedin.com/posts/tanujsai-nimmagadda-2a18b3302_throughout-the-last-two-years-ive-made-activity-7338283496668295169-4kTm?utm_source=share&utm_medium=member_desktop&rcm=ACoAAE1gENkBCMx2gj2UOvfVuaD_fnWDpFNzIK8)\n",
    "[enlightening issue of previous work/progress](https://github.com/Tanuj253/tanujsai-2025/issues/10)\n",
    "\n",
    "my V card:\n",
    "[v-card](https://tanuj253.github.io/tanujsai-2025/v-card)\n",
    "\n",
    "<img src=\"{{site.baseurl}}/images/vcard.png\" width = 500px height = auto alt=\"image1\">"
   ]
  },
  {
   "cell_type": "markdown",
   "metadata": {},
   "source": [
    "June Night at the Museum:\n",
    "\n",
    "<img src=\"{{site.baseurl}}/images/Linked_post.png\" width = 500px height = auto alt=\"image1\">"
   ]
  },
  {
   "cell_type": "markdown",
   "metadata": {},
   "source": [
    "My commits and work:\n",
    "<img src=\"{{site.baseurl}}/images/Commits.png\" width = 500px height = auto alt=\"image1\">\n",
    "\n",
    "Open coding grader:\n",
    "<img src=\"{{site.baseurl}}/images/Grade_predictor.png\" width = 500px height = auto alt=\"image1\">"
   ]
  }
 ],
 "metadata": {
  "language_info": {
   "name": "python"
  }
 },
 "nbformat": 4,
 "nbformat_minor": 2
}
