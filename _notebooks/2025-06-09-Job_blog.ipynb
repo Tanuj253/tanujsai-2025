{
 "cells": [
  {
   "cell_type": "markdown",
   "metadata": {},
   "source": [
    "---\n",
    "layout: post\n",
    "title: Linked In Review\n",
    "description: hw\n",
    "comments: true\n",
    "---"
   ]
  },
  {
   "cell_type": "markdown",
   "metadata": {},
   "source": [
    "🚀 Project Overview\n",
    "\n",
    "End of Tri 2 Milestone: [Overview](https://github.com/Tanuj253/tanujsai-2025/issues/10)\n",
    "\n",
    "⸻\n",
    "\n",
    "✅ Skills Acquired\n",
    "\t•\tFull API Development: Created and deployed RESTful APIs using Spring Boot that are still actively used today.\n",
    "\n",
    "<img src=\"{{site.baseurl}}/images/Rankings_Controller.png\" width = 500px height = auto alt=\"image1\">\n",
    "\n",
    "\t•\tSpring Boot Feature Development:\n",
    "Designed backend features including a dynamic event calendar and integrated backend logic with the front-end interface.\n",
    "\n",
    "<img src=\"{{site.baseurl}}/images/backend_feature.png\" width = 500px height = auto alt=\"image1\">\n",
    "\n",
    "\t•\tFrontend Development (HTML & CSS):\n",
    "Developed responsive UIs with clean styling for crypto price boards and user interfaces.\n",
    "\n",
    "<img src=\"{{site.baseurl}}/images/Crypto.png\" width = 500px height = auto alt=\"image1\">\n",
    "<img src=\"{{site.baseurl}}/images/leaderboard.png\" width = 500px height = auto alt=\"image1\">\n",
    "\n",
    "\t•\tMass Integration of Work:\n",
    "Adapted individual contributions for mass use in a school-wide application.\n",
    "\n",
    "<img src=\"{{site.baseurl}}/images/New_leaderboard.png\" width = 500px height = auto alt=\"image1\">\n",
    "\n",
    "⸻\n",
    "\n",
    "👤 Personal References\n",
    "\t•\t🔗 [LinkedIn Profile](https://www.linkedin.com/in/tanujsai-nimmagadda-2a18b3302/)\n",
    "\t•\t📌 [Project + Experience Post](https://www.linkedin.com/posts/tanujsai-nimmagadda-2a18b3302_throughout-the-last-two-years-ive-made-activity-7338283496668295169-4kTm?utm_source=share&utm_medium=member_desktop&rcm=ACoAAE1gENkBCMx2gj2UOvfVuaD_fnWDpFNzIK8)\n",
    "\t•\t📂 [GitHub Issue: Reflection & Development](https://github.com/Tanuj253/tanujsai-2025/issues/10)\n",
    "\n",
    "📇 My [V-Card](https://tanuj253.github.io/tanujsai-2025/v-card)\n",
    "\n",
    "<img src=\"{{site.baseurl}}/images/vcard.png\" width = 500px height = auto alt=\"image1\">\n",
    "⸻\n",
    "\n",
    "🌙 June “Night at the Museum”\n",
    "\n",
    "Presented the crypto project during a school showcase event. Demonstrated both the technical functionality and community impact of the app.\n",
    "\n",
    "<img src=\"{{site.baseurl}}/images/Linked_post.png\" width = 500px height = auto alt=\"image1\">\n",
    "\n",
    "⸻\n",
    "\n",
    "📊 GitHub Activity and Tools\n",
    "\n",
    "GitHub Dashboard & Contributions\n",
    "\n",
    "<img src=\"{{site.baseurl}}/images/Commits.png\" width=\"500px\" alt=\"GitHub Commits Screenshot\">\n",
    "\n",
    "\n",
    "Open Coding Grader\n",
    "\n",
    "Visual breakdown of GitHub-based engagement and performance metrics.\n",
    "\n",
    "<img src=\"{{site.baseurl}}/images/Grade_predictor.png\" width = 500px height = auto alt=\"image1\">"
   ]
  }
 ],
 "metadata": {
  "language_info": {
   "name": "python"
  }
 },
 "nbformat": 4,
 "nbformat_minor": 2
}
