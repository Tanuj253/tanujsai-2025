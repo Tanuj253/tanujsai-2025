{
 "cells": [
  {
   "cell_type": "markdown",
   "metadata": {},
   "source": [
    "---\n",
    "layout: post\n",
    "title: Graph heuristics hw\n",
    "description: hw\n",
    "comments: true\n",
    "---"
   ]
  },
  {
   "cell_type": "markdown",
   "metadata": {},
   "source": [
    "1. A* Search Problem: A to D\n",
    "\n",
    "Heuristics:\n",
    "\t•\th(A) = 6\n",
    "\t•\th(B) = 4\n",
    "\t•\th(C) = 2\n",
    "\t•\th(D) = 0\n",
    "\n",
    "Step-by-step A* Execution:\n",
    "\n",
    "Start at A\n",
    "\t•\tg(A) = 0, f(A) = g + h = 0 + 6 = 6\n",
    "\t•\tFrom A, we can go to:\n",
    "\t•\tB: g = 2, h = 4, f = 6\n",
    "\t•\tC: g = 4, h = 2, f = 6\n",
    "\n",
    "Both have f = 6, so we can pick either. I chose B.\n",
    "\n",
    "\n",
    "Expand B\n",
    "\t•\tFrom B:\n",
    "\t•\tTo C: g = 5, h = 2, f = 7 → not better than existing C (f=6), so we skip it\n",
    "\t•\tTo D: g = 7, h = 0, f = 7\n",
    "\n",
    "\n",
    "\n",
    "Expand C\n",
    "\t•\tC has f = 6 from earlier\n",
    "\t•\tFrom C:\n",
    "\t•\tTo D: g = 5, h = 0, f = 5 → better than previous path to D, so we update D\n",
    "\n",
    "\n",
    "\n",
    "Expand D\n",
    "\t•\tD has the lowest f now (f=5), and it’s the goal → done!\n",
    "\n",
    "\n",
    "\t•\tPath: A → C → D\n",
    "\t•\tTotal cost: 5\n",
    "\n",
    "⸻\n",
    "\n",
    "2. Multiple Choice Questions\n",
    "\n",
    "Q1: What guarantees A* finds the optimal path?\n",
    "→ B. Admissibility\n",
    "Because the heuristic never overestimates, A* won’t miss the shortest path.\n",
    "\n",
    "Q2: Greedy Best-First chooses nodes based on…\n",
    "→ B. h(n)\n",
    "It just picks the node that seems closest to the goal.\n",
    "\n",
    "Q3: Best admissible heuristic for 4-connected grids?\n",
    "→ B. Manhattan distance\n",
    "\n",
    "Q4: Main drawback of Greedy Best-First?\n",
    "→ B. It may expand nodes in non-optimal order\n"
   ]
  }
 ],
 "metadata": {
  "language_info": {
   "name": "python"
  }
 },
 "nbformat": 4,
 "nbformat_minor": 2
}
