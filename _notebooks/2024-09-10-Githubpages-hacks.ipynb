{
 "cells": [
  {
   "cell_type": "markdown",
   "metadata": {},
   "source": [
    "---\n",
    "layout: post\n",
    "title: Github pages hacks\n",
    "comments: true\n",
    "---"
   ]
  },
  {
   "cell_type": "markdown",
   "metadata": {},
   "source": [
    "### **Project Overview:**\n",
    "- **Create an Information Site**: Students will collaborate in pairs to build an information site using GitHub Pages, exploring topics they are passionate about.\n",
    "  \n",
    "### **Key Requirements:**\n",
    "1. **Submenu Creation**:\n",
    "   - Students will design and implement a submenu structure to organize the content.\n",
    "   - Each submenu item should correspond to a page or topic related to the main theme.\n",
    "\n",
    "2. **Customized Pages**:\n",
    "   - Each submenu item leads to a page with customized content.\n",
    "   - Students will need to use styles (CSS) to personalize the appearance of each page.\n",
    "\n",
    "3. **Tracking Information**:\n",
    "   - Incorporate data tracking in the project. For example, if the topic is fitness, students can track training progress or data.\n",
    "   - Another example: A gaming blog could track the player's progress, popular mods, or game strategies.\n",
    "\n",
    "4. **JavaScript Integration**:\n",
    "   - Some pages should utilize JavaScript to perform dynamic actions, such as randomizing jokes or displaying data.\n",
    "   - Example code snippets in the project show how JavaScript can generate random jokes.\n",
    "\n",
    "5. **GitHub Pages Anatomy**:\n",
    "   - Learn the structure of a GitHub Pages repository, such as the use of `_includes` for reusable content and `_notebooks` for interactive Jupyter notebooks.\n",
    "\n",
    "6. **Styles and Debugging**:\n",
    "   - Students will be encouraged to experiment with styles and inspect/debug their pages using tools like Developer Tools in VSCode.\n",
    "\n",
    "### **Brainstorming and Brainwriting**:\n",
    "- Students are encouraged to brainstorm potential topics with their partner and capture those ideas in a structured format (brainwriting).\n",
    "- The project could be focused on topics like gaming blogs, fitness, career humor, etc., allowing for a wide range of creativity.\n",
    "\n",
    "### **Project Implementation**:\n",
    "- **Submenu Example**: A menu about gaming could include:\n",
    "   - Subtopics like “Popular Mods,” “Discord Communities,” “Game Techniques.”\n",
    "   - JavaScript could be used to randomize tips or list resources dynamically.\n",
    "\n",
    "- **Example JavaScript Functionality**: \n",
    "   ```javascript\n",
    "   var compsci_joke_list = [\n",
    "       { joke: \"Why do programmers prefer dark mode? Because light attracts bugs.\", complexity: \"O(1)\" },\n",
    "       { joke: \"Why was the JavaScript developer sad? Because he didn't know how to 'null' his feelings.\", complexity: \"O(1)\" }\n",
    "   ];\n",
    "   var randomIndex = Math.floor(Math.random() * compsci_joke_list.length);\n",
    "   var selectedJoke = compsci_joke_list[randomIndex];\n",
    "   console.log(\"Joke #\" + (randomIndex + 1) + \": \" + selectedJoke.joke);\n",
    "   ```\n",
    "\n",
    "### **File Management in GitHub**:\n",
    "- **Collaborating on GitHub**: Pairs will share and manage their project files via GitHub. Learning to clone, pull, and push updates is part of the process.\n",
    "   - Example: Using `git pull` to sync changes between repositories.\n",
    "  \n",
    "### **Project Files and Locations**:\n",
    "- Files are organized into different directories such as `_includes` for shared files and `_notebooks` for interactive notebook content.\n",
    "  \n",
    "This mini-project provides a hands-on introduction to web development, collaboration, and programming basics, all wrapped in an open-ended creative task. It's a great way for students to build and apply real-world skills while exploring their own interests."
   ]
  }
 ],
 "metadata": {
  "language_info": {
   "name": "python"
  }
 },
 "nbformat": 4,
 "nbformat_minor": 2
}
