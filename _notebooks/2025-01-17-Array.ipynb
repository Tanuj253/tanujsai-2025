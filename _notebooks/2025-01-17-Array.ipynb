{
 "cells": [
  {
   "cell_type": "markdown",
   "metadata": {},
   "source": [
    "---\n",
    "layout: post\n",
    "title: Arrays hw\n",
    "description: hw\n",
    "comments: true\n",
    "---"
   ]
  },
  {
   "cell_type": "markdown",
   "metadata": {},
   "source": [
    "Warm up:"
   ]
  },
  {
   "cell_type": "code",
   "execution_count": null,
   "metadata": {
    "vscode": {
     "languageId": "plaintext"
    }
   },
   "outputs": [],
   "source": [
    "import java.util.ArrayList;\n",
    "import java.util.Collections;\n",
    "\n",
    "public class SortArrayList {\n",
    "\n",
    "    // Method to sort an ArrayList of integers\n",
    "    public static ArrayList<Integer> sortArrayList(ArrayList<Integer> list) {\n",
    "        // Check for null or empty input\n",
    "        if (list == null || list.isEmpty()) {\n",
    "            System.out.println(\"Input ArrayList is null or empty.\");\n",
    "            return list;\n",
    "        }\n",
    "\n",
    "        // Sort the ArrayList using Collections.sort()\n",
    "        Collections.sort(list);\n",
    "\n",
    "        return list;\n",
    "    }\n",
    "\n",
    "    public static void main(String[] args) {\n",
    "        // Example ArrayList\n",
    "        ArrayList<Integer> numbers = new ArrayList<>();\n",
    "        numbers.add(5);\n",
    "        numbers.add(2);\n",
    "        numbers.add(9);\n",
    "        numbers.add(1);\n",
    "        numbers.add(6);\n",
    "\n",
    "        // Print original list\n",
    "        System.out.println(\"Original ArrayList: \" + numbers);\n",
    "\n",
    "        // Sort the ArrayList\n",
    "        ArrayList<Integer> sortedList = sortArrayList(numbers);\n",
    "\n",
    "        // Print sorted list\n",
    "        System.out.println(\"Sorted ArrayList: \" + sortedList);\n",
    "    }\n",
    "}"
   ]
  },
  {
   "cell_type": "markdown",
   "metadata": {},
   "source": [
    "Hw:"
   ]
  },
  {
   "cell_type": "code",
   "execution_count": null,
   "metadata": {
    "vscode": {
     "languageId": "plaintext"
    }
   },
   "outputs": [],
   "source": [
    "import java.util.ArrayList;\n",
    "import java.util.Scanner;\n",
    "\n",
    "public class RandomMatrix {\n",
    "    public static void main(String[] args) {\n",
    "        Scanner scanner = new Scanner(System.in);\n",
    "\n",
    "        // Step 1: Get the size of the matrix\n",
    "        System.out.print(\"Enter the array size n: \");\n",
    "        int n = scanner.nextInt();\n",
    "\n",
    "        // Step 2: Create and fill the matrix with random 0s and 1s\n",
    "        int[][] matrix = new int[n][n];\n",
    "        for (int i = 0; i < n; i++) {\n",
    "            for (int j = 0; j < n; j++) {\n",
    "                matrix[i][j] = (int) (Math.random() * 2); // Randomly fills with 0 or 1\n",
    "            }\n",
    "        }\n",
    "\n",
    "        // Step 3: Print the matrix\n",
    "        System.out.println(\"The random array is\");\n",
    "        for (int i = 0; i < n; i++) {\n",
    "            for (int j = 0; j < n; j++) {\n",
    "                System.out.print(matrix[i][j]);\n",
    "            }\n",
    "            System.out.println();\n",
    "        }\n",
    "\n",
    "        // Step 4: Find rows with the most 1s\n",
    "        ArrayList<Integer> maxRows = new ArrayList<>();\n",
    "        int maxRowCount = 0;\n",
    "\n",
    "        for (int i = 0; i < n; i++) {\n",
    "            int rowCount = 0;\n",
    "            for (int j = 0; j < n; j++) {\n",
    "                rowCount += matrix[i][j];\n",
    "            }\n",
    "            if (rowCount > maxRowCount) {\n",
    "                maxRowCount = rowCount;\n",
    "                maxRows.clear();\n",
    "                maxRows.add(i);\n",
    "            } else if (rowCount == maxRowCount) {\n",
    "                maxRows.add(i);\n",
    "            }\n",
    "        }\n",
    "\n",
    "        // Step 5: Find columns with the most 1s\n",
    "        ArrayList<Integer> maxCols = new ArrayList<>();\n",
    "        int maxColCount = 0;\n",
    "\n",
    "        for (int j = 0; j < n; j++) {\n",
    "            int colCount = 0;\n",
    "            for (int i = 0; i < n; i++) {\n",
    "                colCount += matrix[i][j];\n",
    "            }\n",
    "            if (colCount > maxColCount) {\n",
    "                maxColCount = colCount;\n",
    "                maxCols.clear();\n",
    "                maxCols.add(j);\n",
    "            } else if (colCount == maxColCount) {\n",
    "                maxCols.add(j);\n",
    "            }\n",
    "        }\n",
    "\n",
    "        // Step 6: Print the results\n",
    "        System.out.println(\"The largest row index: \" + listToString(maxRows));\n",
    "        System.out.println(\"The largest column index: \" + listToString(maxCols));\n",
    "    }\n",
    "\n",
    "    // Helper method to convert ArrayList to a comma-separated string\n",
    "    private static String listToString(ArrayList<Integer> list) {\n",
    "        StringBuilder sb = new StringBuilder();\n",
    "        for (int i = 0; i < list.size(); i++) {\n",
    "            sb.append(list.get(i));\n",
    "            if (i < list.size() - 1) {\n",
    "                sb.append(\", \");\n",
    "            }\n",
    "        }\n",
    "        return sb.toString();\n",
    "    }\n",
    "}"
   ]
  }
 ],
 "metadata": {
  "language_info": {
   "name": "python"
  }
 },
 "nbformat": 4,
 "nbformat_minor": 2
}
