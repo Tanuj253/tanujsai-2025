{
 "cells": [
  {
   "cell_type": "markdown",
   "metadata": {},
   "source": [
    "---\n",
    "layout: post\n",
    "title: fibonaccii abstract hw\n",
    "description: hw\n",
    "comments: true\n",
    "---"
   ]
  },
  {
   "cell_type": "markdown",
   "metadata": {},
   "source": [
    "# Used Everywhere – Classes, ArrayLists, and HashMaps are in almost every Java program.\n",
    "\t•\tTaught in School – AP Computer Science A covers these a lot.\n",
    "\t•\tEfficient – ArrayLists resize automatically, and HashMaps make searching fast.\n",
    "\t•\tIndustry Favorite – Big companies use these in real-world applications.\n",
    "\n",
    "# Other Data Structures That Might Compete\n",
    "\t•\tLinked Lists – Good for adding/removing items often.\n",
    "\t•\tStacks & Queues – Used in algorithms and organizing tasks.\n",
    "\t•\tTrees – Helpful for searching and sorting.\n",
    "\t•\tHeaps – Great for keeping track of priority items.\n",
    "\t•\tGraphs – Used for maps, networks, and connections.\n",
    "\n",
    "# Quick Breakdown:\n",
    "    •   ArrayLists, HashMaps, and Classes are widely used and taught in AP CS.\n",
    "\t•\tLinked Lists, Stacks, and Queues are also common but used for different tasks.\n",
    "\t•\tTrees, Heaps, and Graphs are less common in AP CS but useful in advanced coding."
   ]
  },
  {
   "cell_type": "markdown",
   "metadata": {},
   "source": [
    "# Popcorn hacks\n",
    "four different alogorithms that can do a fibonaccii sequence\n",
    "\n",
    "## First uses bitwise approach\n",
    "\n",
    "explanation:\n",
    "Uses bitwise operations (XOR, AND, and left shift) instead of regular addition to compute Fibonacci numbers in a unique way. This method is more of a learning experiment than an efficient approach. Best for understanding how arithmetic can be replaced by bitwise logic."
   ]
  },
  {
   "cell_type": "code",
   "execution_count": null,
   "metadata": {
    "vscode": {
     "languageId": "java"
    }
   },
   "outputs": [],
   "source": [
    "## own fibbonacci sequence\n",
    "\n",
    "public class UniqueFibonacci {\n",
    "    public static void main(String[] args) {\n",
    "        int n = 20; // Number of Fibonacci terms to generate\n",
    "        generateFibonacci(n);\n",
    "    }\n",
    "\n",
    "    public static void generateFibonacci(int n) {\n",
    "        if (n < 1) {\n",
    "            System.out.println(\"Invalid sequence length.\");\n",
    "            return;\n",
    "        }\n",
    "\n",
    "        int a = 0, b = 1;\n",
    "        System.out.print(a + \", \" + b);\n",
    "\n",
    "        for (int i = 2; i < n; i++) {\n",
    "            int next = bitwiseAdd(a, b); // Unique way of computing Fibonacci\n",
    "            System.out.print(\", \" + next);\n",
    "            a = b;\n",
    "            b = next;\n",
    "        }\n",
    "        System.out.println();\n",
    "    }\n",
    "\n",
    "    // Custom method to add two numbers using bitwise operations\n",
    "    private static int bitwiseAdd(int x, int y) {\n",
    "        while (y != 0) {\n",
    "            int carry = x & y;  // Carry occurs where both bits are 1\n",
    "            x = x ^ y;          // XOR adds bits without carry\n",
    "            y = carry << 1;     // Shift carry left to add at next position\n",
    "        }\n",
    "        return x;\n",
    "    }\n",
    "}"
   ]
  },
  {
   "cell_type": "markdown",
   "metadata": {},
   "source": [
    "## Second uses Matric Exponentiation\n",
    "explanation:\n",
    "Uses matrix multiplication to compute Fibonacci numbers in O(log n) time, making it the fastest method for large n. By repeatedly squaring a transformation matrix, it avoids unnecessary calculations. Best for handling very large Fibonacci numbers efficiently."
   ]
  },
  {
   "cell_type": "code",
   "execution_count": null,
   "metadata": {
    "vscode": {
     "languageId": "java"
    }
   },
   "outputs": [],
   "source": [
    "public class MatrixFibonacci {\n",
    "    public static void main(String[] args) {\n",
    "        int n = 20;\n",
    "        for (int i = 0; i < n; i++) {\n",
    "            System.out.print(fibMatrix(i) + (i < n - 1 ? \", \" : \"\\n\"));\n",
    "        }\n",
    "    }\n",
    "\n",
    "    public static int fibMatrix(int n) {\n",
    "        if (n == 0) return 0;\n",
    "        if (n == 1) return 1;\n",
    "\n",
    "        int[][] F = {{1, 1}, {1, 0}};\n",
    "        power(F, n - 1);\n",
    "        return F[0][0];\n",
    "    }\n",
    "\n",
    "    private static void power(int[][] F, int n) {\n",
    "        if (n == 0 || n == 1) return;\n",
    "        int[][] M = {{1, 1}, {1, 0}};\n",
    "\n",
    "        power(F, n / 2);\n",
    "        multiply(F, F);\n",
    "        if (n % 2 != 0) multiply(F, M);\n",
    "    }\n",
    "\n",
    "    private static void multiply(int[][] F, int[][] M) {\n",
    "        int x = F[0][0] * M[0][0] + F[0][1] * M[1][0];\n",
    "        int y = F[0][0] * M[0][1] + F[0][1] * M[1][1];\n",
    "        int z = F[1][0] * M[0][0] + F[1][1] * M[1][0];\n",
    "        int w = F[1][0] * M[0][1] + F[1][1] * M[1][1];\n",
    "\n",
    "        F[0][0] = x;\n",
    "        F[0][1] = y;\n",
    "        F[1][0] = z;\n",
    "        F[1][1] = w;\n",
    "    }\n",
    "}"
   ]
  },
  {
   "cell_type": "markdown",
   "metadata": {},
   "source": [
    "## third using recursive formula with memorization\n",
    "explanation:\n",
    "Uses a HashMap to store previously computed Fibonacci values, avoiding redundant calculations. This speeds up recursive computation and improves efficiency significantly. Best for moderate values of n (around 30-50), where plain recursion becomes too slow."
   ]
  },
  {
   "cell_type": "code",
   "execution_count": null,
   "metadata": {
    "vscode": {
     "languageId": "java"
    }
   },
   "outputs": [],
   "source": [
    "import java.util.HashMap;\n",
    "\n",
    "public class MemoizedFibonacci {\n",
    "    private static HashMap<Integer, Integer> memo = new HashMap<>();\n",
    "\n",
    "    public static void main(String[] args) {\n",
    "        int n = 20;\n",
    "        for (int i = 0; i < n; i++) {\n",
    "            System.out.print(fib(i) + (i < n - 1 ? \", \" : \"\\n\"));\n",
    "        }\n",
    "    }\n",
    "\n",
    "    public static int fib(int n) {\n",
    "        if (n == 0) return 0;\n",
    "        if (n == 1) return 1;\n",
    "\n",
    "        if (!memo.containsKey(n)) {\n",
    "            memo.put(n, fib(n - 1) + fib(n - 2));\n",
    "        }\n",
    "        return memo.get(n);\n",
    "    }\n",
    "}"
   ]
  },
  {
   "cell_type": "markdown",
   "metadata": {},
   "source": [
    "## Fourth method with golden ratio or math approach:\n",
    "By far the most simple method in terms of amount to code\n",
    "\n",
    "Explanation:\n",
    "Uses the mathematical formula F(n) = phi^n/sqrt(5), where phi (the golden ratio) is approximately 1.618. This method computes Fibonacci numbers instantly in O(1) time, but may lose accuracy for very large n due to floating-point rounding. Best for quick estimations when precision isn’t critical."
   ]
  },
  {
   "cell_type": "code",
   "execution_count": null,
   "metadata": {
    "vscode": {
     "languageId": "java"
    }
   },
   "outputs": [],
   "source": [
    "public class GoldenRatioFibonacci {\n",
    "    public static void main(String[] args) {\n",
    "        int n = 20;\n",
    "        for (int i = 0; i < n; i++) {\n",
    "            System.out.print(fibGoldenRatio(i) + (i < n - 1 ? \", \" : \"\\n\"));\n",
    "        }\n",
    "    }\n",
    "\n",
    "    public static int fibGoldenRatio(int n) {\n",
    "        double phi = (1 + Math.sqrt(5)) / 2;\n",
    "        return (int) Math.round(Math.pow(phi, n) / Math.sqrt(5));\n",
    "    }\n",
    "}"
   ]
  }
 ],
 "metadata": {
  "language_info": {
   "name": "python"
  }
 },
 "nbformat": 4,
 "nbformat_minor": 2
}
