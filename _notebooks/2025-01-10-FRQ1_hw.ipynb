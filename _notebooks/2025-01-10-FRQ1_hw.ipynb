{
 "cells": [
  {
   "cell_type": "markdown",
   "metadata": {},
   "source": [
    "---\n",
    "layout: post\n",
    "title: FRQ 1 hw\n",
    "description: hw\n",
    "comments: true\n",
    "---"
   ]
  },
  {
   "cell_type": "code",
   "execution_count": null,
   "metadata": {
    "vscode": {
     "languageId": "groovy"
    }
   },
   "outputs": [],
   "source": [
    "public class MazeSolver {\n",
    "\n",
    "    public static boolean solveMaze(char[][] maze, int startX, int startY) {\n",
    "        // Check if the current position is valid\n",
    "        if (startX < 0 || startX >= maze.length || startY < 0 || startY >= maze[0].length || maze[startX][startY] == '#') {\n",
    "            return false;\n",
    "        }\n",
    "\n",
    "        // Check if the current position is the exit\n",
    "        if (maze[startX][startY] == 'E') {\n",
    "            return true;\n",
    "        }\n",
    "\n",
    "        // Mark the current cell as visited\n",
    "        maze[startX][startY] = '#';\n",
    "\n",
    "        // Explore all possible directions (up, down, left, right)\n",
    "        boolean found = solveMaze(maze, startX - 1, startY) || // Up\n",
    "                        solveMaze(maze, startX + 1, startY) || // Down\n",
    "                        solveMaze(maze, startX, startY - 1) || // Left\n",
    "                        solveMaze(maze, startX, startY + 1);   // Right\n",
    "\n",
    "        // Restore the cell to its original state after exploring\n",
    "        maze[startX][startY] = ' ';\n",
    "\n",
    "        return found;\n",
    "    }\n",
    "\n",
    "    public static void main(String[] args) {\n",
    "        char[][] maze = {\n",
    "            {'#', '#', '#', '#', '#'},\n",
    "            {'#', ' ', ' ', '#', 'E'},\n",
    "            {'#', ' ', '#', ' ', '#'},\n",
    "            {'#', ' ', ' ', ' ', '#'},\n",
    "            {'#', '#', '#', '#', '#'}\n",
    "        };\n",
    "\n",
    "        // Test Case: Starting at the Exit\n",
    "        System.out.println(solveMaze(maze, 1, 4)); // Output: true\n",
    "    }\n",
    "}"
   ]
  }
 ],
 "metadata": {
  "language_info": {
   "name": "python"
  }
 },
 "nbformat": 4,
 "nbformat_minor": 2
}
