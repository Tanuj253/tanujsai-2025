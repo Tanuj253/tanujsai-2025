{
 "cells": [
  {
   "cell_type": "markdown",
   "metadata": {},
   "source": [
    "---\n",
    "layout: post\n",
    "title: Unit 2 hw\n",
    "description: Unit 2\n",
    "type: issues \n",
    "comments: true\n",
    "---"
   ]
  },
  {
   "cell_type": "markdown",
   "metadata": {},
   "source": [
    "Unit 2 Hacks:\n",
    "popcorn hack 1:"
   ]
  },
  {
   "cell_type": "code",
   "execution_count": null,
   "metadata": {
    "vscode": {
     "languageId": "java"
    }
   },
   "outputs": [],
   "source": [
    "class Dog {\n",
    "    // Instance variables\n",
    "    public String Name;\n",
    "    public String breed;\n",
    "    public int age;\n",
    "\n",
    "    // Constructor to initialize the dog’s attributes\n",
    "    public Dog(String Name, String breed, int age) {\n",
    "        this.Name = Name;\n",
    "        this.breed = breed;\n",
    "        this.age = age;\n",
    "    }\n",
    "\n",
    "    // Method to make the dog bark\n",
    "    public void bark() {\n",
    "        System.out.println(\"Woof!\");\n",
    "    }\n",
    "}\n",
    "\n",
    "public class Main {\n",
    "    public static void main(String[] args) {\n",
    "        // Create a new Dog object\n",
    "        Dog myDog = new Dog(\"Shelby\", \"Golden Retriever\", 5); // name, breed, age\n",
    "        myDog.bark(); // should print \"Woof!\"\n",
    "    }\n",
    "}\n",
    "\n",
    "Main.main(null);"
   ]
  },
  {
   "cell_type": "markdown",
   "metadata": {},
   "source": [
    "Creating strings code:"
   ]
  },
  {
   "cell_type": "markdown",
   "metadata": {},
   "source": []
  },
  {
   "cell_type": "code",
   "execution_count": 1,
   "metadata": {
    "vscode": {
     "languageId": "java"
    }
   },
   "outputs": [
    {
     "name": "stdout",
     "output_type": "stream",
     "text": [
      "Skibidi\n",
      "Sigma\n",
      "Skibidi\n"
     ]
    }
   ],
   "source": [
    "public class StringObjects\n",
    "{\n",
    "    public static void main(String[] args)\n",
    "    {\n",
    "        String name1 = \"Skibidi\";\n",
    "        String name2 = new String(\"Sigma\");\n",
    "        String name3 = new String(name1);\n",
    "\n",
    "        System.out.println(name1);\n",
    "        System.out.println(name2);\n",
    "        System.out.println(name3);\n",
    "    }\n",
    "}\n",
    "\n",
    "StringObjects.main(null);"
   ]
  },
  {
   "cell_type": "code",
   "execution_count": 1,
   "metadata": {
    "vscode": {
     "languageId": "java"
    }
   },
   "outputs": [
    {
     "name": "stdout",
     "output_type": "stream",
     "text": [
      "Integer object (autoboxed): 10\n",
      "Double primitive (unboxed): 15.5\n"
     ]
    }
   ],
   "source": [
    "public class Main {\n",
    "    public static void main(String[] args) {\n",
    "        // Autoboxing: Create an Integer object from a primitive int\n",
    "        Integer integerObject = 10; // Autoboxing automatically converts int to Integer\n",
    "        \n",
    "        // Unboxing: Create a double primitive from a Double object\n",
    "        Double doubleObject = 15.5; // A Double object\n",
    "        double doublePrimitive = doubleObject; // Unboxing automatically converts Double to double\n",
    "\n",
    "        // Print both values\n",
    "        System.out.println(\"Integer object (autoboxed): \" + integerObject);\n",
    "        System.out.println(\"Double primitive (unboxed): \" + doublePrimitive);\n",
    "    }\n",
    "}\n",
    "\n",
    "Main.main(null);"
   ]
  },
  {
   "cell_type": "code",
   "execution_count": 5,
   "metadata": {
    "vscode": {
     "languageId": "java"
    }
   },
   "outputs": [],
   "source": [
    "import java.util.*;\n",
    "public class Main {\n",
    "    public static double randomize(double a, double b) {\n",
    "        // Take the absolute value of both numbers\n",
    "        a = Math.abs(a);\n",
    "        b = Math.abs(b);\n",
    "        \n",
    "        // Find the minimum and maximum to ensure a valid range\n",
    "        double min = Math.min(a, b);\n",
    "        double max = Math.max(a, b);\n",
    "        \n",
    "        // Return a random number between min and max (inclusive)\n",
    "        return min + (Math.random() * (max - min));\n",
    "    }\n",
    "\n",
    "    public static void main(String[] args) {\n",
    "       Scanner scan = new Scanner(System.in);\n",
    "       System.out.print(\"Enter two numbers: \");\n",
    "       double a = scan.nextDouble();\n",
    "       double b = scan.nextDouble();\n",
    "\n",
    "       // Call the randomize function and print the result\n",
    "       System.out.println(\"Random number: \" + randomize(a, b));\n",
    "    }\n",
    "}\n",
    "\n",
    "Main.main(null);"
   ]
  },
  {
   "cell_type": "markdown",
   "metadata": {},
   "source": [
    "Homework\n",
    "Now, it’s time to practice! The following problem will incorporate the following concepts:\n",
    "- Classes\n",
    "- Constructors\n",
    "- Methods\n",
    "- Void methods\n",
    "- Non-void methods\n",
    "- Math class\n",
    "- Integer and Double wrapper classes\n",
    "- String methods"
   ]
  },
  {
   "cell_type": "code",
   "execution_count": 4,
   "metadata": {
    "vscode": {
     "languageId": "java"
    }
   },
   "outputs": [
    {
     "name": "stdout",
     "output_type": "stream",
     "text": [
      "Circle 1:\n",
      "Radius: 5.0\n",
      "Circumference: 31.41592653589793\n",
      "Area: 78.53981633974483\n",
      "\n",
      "Circle 2:\n",
      "Radius: 7.0\n",
      "Circumference: 43.982297150257104\n",
      "Area: 153.93804002589985\n",
      "\n",
      "Student 1:\n",
      "Name: Aadit\n",
      "Name Length: 5\n",
      "Grade as Double: 75.0\n",
      "Scaled Grade: 37.5\n",
      "\n",
      "Student 2:\n",
      "Name: Emily\n",
      "Name Length: 5\n",
      "Grade as Double: 45.0\n",
      "Scaled Grade: 22.5\n"
     ]
    }
   ],
   "source": [
    "// Circle class representing a geometric circle\n",
    "public class Circle {\n",
    "    // Instance variable representing the radius of the circle\n",
    "    private double radius;\n",
    "\n",
    "    // Constructor to initialize the radius of the circle\n",
    "    public Circle(double radius) {\n",
    "        this.radius = radius;\n",
    "    }\n",
    "\n",
    "    // Method to calculate and return the circumference of the circle\n",
    "    public double circumference() {\n",
    "        return 2 * Math.PI * this.radius;\n",
    "    }\n",
    "\n",
    "    // Method to calculate and return the area of the circle\n",
    "    public double area() {\n",
    "        return Math.PI * Math.pow(this.radius, 2);\n",
    "    }\n",
    "\n",
    "    // Getter for radius (added for encapsulation)\n",
    "    public double getRadius() {\n",
    "        return radius;\n",
    "    }\n",
    "}\n",
    "\n",
    "// Student class representing a student with a name and grade\n",
    "public class Student {\n",
    "    // Instance variables for the student's name and grade\n",
    "    private String name;\n",
    "    private Integer grade;\n",
    "\n",
    "    // Constructor to initialize the student's name and grade\n",
    "    public Student(String name, Integer grade) {\n",
    "        this.name = name;\n",
    "        this.grade = grade;\n",
    "    }\n",
    "\n",
    "    // Method to return the length of the student's name\n",
    "    public int nameLength() {\n",
    "        return this.name.length();\n",
    "    }\n",
    "\n",
    "    // Method to return the student's grade as a Double\n",
    "    public Double getGradeAsDouble() {\n",
    "        return this.grade.doubleValue();\n",
    "    }\n",
    "\n",
    "    // Method to return a scaled version of the student's grade (half the value)\n",
    "    public double getScaledGrade() {\n",
    "        return this.grade / 2.0;\n",
    "    }\n",
    "\n",
    "    // Getters for name and grade (added for encapsulation)\n",
    "    public String getName() {\n",
    "        return name;\n",
    "    }\n",
    "\n",
    "    public Integer getGrade() {\n",
    "        return grade;\n",
    "    }\n",
    "}\n",
    "\n",
    "// Main class for testing the Circle and Student classes\n",
    "public class Main {\n",
    "    public static void main(String[] args) {\n",
    "        // Testing the Circle class\n",
    "        Circle circle1 = new Circle(5.0);\n",
    "        Circle circle2 = new Circle(7.0);\n",
    "\n",
    "        System.out.println(\"Circle 1:\");\n",
    "        System.out.println(\"Radius: \" + circle1.getRadius());\n",
    "        System.out.println(\"Circumference: \" + circle1.circumference());\n",
    "        System.out.println(\"Area: \" + circle1.area());\n",
    "\n",
    "        System.out.println(\"\\nCircle 2:\");\n",
    "        System.out.println(\"Radius: \" + circle2.getRadius());\n",
    "        System.out.println(\"Circumference: \" + circle2.circumference());\n",
    "        System.out.println(\"Area: \" + circle2.area());\n",
    "\n",
    "        // Testing the Student class\n",
    "        Student student1 = new Student(\"Aadit\", 75);\n",
    "        Student student2 = new Student(\"Emily\", 45);\n",
    "\n",
    "        System.out.println(\"\\nStudent 1:\");\n",
    "        System.out.println(\"Name: \" + student1.getName());\n",
    "        System.out.println(\"Name Length: \" + student1.nameLength());\n",
    "        System.out.println(\"Grade as Double: \" + student1.getGradeAsDouble());\n",
    "        System.out.println(\"Scaled Grade: \" + student1.getScaledGrade());\n",
    "\n",
    "        System.out.println(\"\\nStudent 2:\");\n",
    "        System.out.println(\"Name: \" + student2.getName());\n",
    "        System.out.println(\"Name Length: \" + student2.nameLength());\n",
    "        System.out.println(\"Grade as Double: \" + student2.getGradeAsDouble());\n",
    "        System.out.println(\"Scaled Grade: \" + student2.getScaledGrade());\n",
    "    }\n",
    "}\n",
    "\n",
    "Main.main(null);"
   ]
  }
 ],
 "metadata": {
  "kernelspec": {
   "display_name": "Java",
   "language": "java",
   "name": "java"
  },
  "language_info": {
   "codemirror_mode": "java",
   "file_extension": ".jshell",
   "mimetype": "text/x-java-source",
   "name": "Java",
   "pygments_lexer": "java",
   "version": "17.0.12+7-Ubuntu-1ubuntu222.04"
  }
 },
 "nbformat": 4,
 "nbformat_minor": 2
}
