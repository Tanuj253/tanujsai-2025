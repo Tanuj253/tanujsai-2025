{
 "cells": [
  {
   "cell_type": "markdown",
   "metadata": {},
   "source": [
    "---\n",
    "layout: post\n",
    "title: V card\n",
    "description: hw\n",
    "comments: true\n",
    "---"
   ]
  },
  {
   "cell_type": "markdown",
   "metadata": {
    "vscode": {
     "languageId": "html"
    }
   },
   "source": [
    "# Brandon Smurlo - Digital vCard\n",
    "\n",
    "![QR Code](images/vcard.png)\n",
    "\n",
    "## 📫 Contact\n",
    "\n",
    "- 📧 [tanujsai.real@gmail.com](mailto:tanujsai.real@gmail.com)  \n",
    "- 🌐 [Overview of Projects](https://github.com/Tanuj253/tanujsai-2025/issues/10)  \n",
    "- 💼 [LinkedIn Profile](https://www.linkedin.com/in/tanujsai-nimmagadda-2a18b3302/)  \n",
    "- 💻 [GitHub Profile](https://github.com/Tanuj253/tanujsai-2025)\n",
    "\n",
    "---\n",
    "\n",
    "## 📥 Download\n",
    "\n",
    "[**Download vCard**](ocs.vcf)\n",
    "\n",
    "---\n",
    "\n",
    "## Notes\n",
    "\n",
    "- This markdown version presents links and content for accessibility and easy viewing on platforms like GitHub.\n",
    "- Styling, QR code positioning, and responsive layout from the HTML version are not replicated here.\n",
    "- To maintain visual fidelity, include the `images/frame.png` in the same directory when displaying the QR code image."
   ]
  }
 ],
 "metadata": {
  "language_info": {
   "name": "python"
  }
 },
 "nbformat": 4,
 "nbformat_minor": 2
}
