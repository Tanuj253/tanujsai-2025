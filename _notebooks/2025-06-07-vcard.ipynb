{
 "cells": [
  {
   "cell_type": "markdown",
   "metadata": {},
   "source": [
    "---\n",
    "layout: post\n",
    "title: V card\n",
    "description: hw\n",
    "comments: true\n",
    "---"
   ]
  },
  {
   "cell_type": "markdown",
   "metadata": {
    "vscode": {
     "languageId": "html"
    }
   },
   "source": [
    "# Brandon Smurlo - Digital vCard\n",
    "\n",
    "<img src=\"{{site.baseurl}}/images/vcard.png\" width = 500px height = auto alt=\"image1\">\n",
    "\n",
    "## 📫 Contact\n",
    "\n",
    "- 📧 [tanujsai.real@gmail.com](mailto:tanujsai.real@gmail.com)  \n",
    "- 🌐 [Overview of Projects](https://github.com/Tanuj253/tanujsai-2025/issues/10)  \n",
    "- 💼 [LinkedIn Profile](https://www.linkedin.com/in/tanujsai-nimmagadda-2a18b3302/)  \n",
    "- 💻 [GitHub Profile](https://github.com/Tanuj253/tanujsai-2025)\n",
    "\n",
    "---\n",
    "\n",
    "## 📥 Download\n",
    "\n",
    "[**Download vCard**](ocs.vcf)\n",
    "\n",
    "---"
   ]
  }
 ],
 "metadata": {
  "language_info": {
   "name": "python"
  }
 },
 "nbformat": 4,
 "nbformat_minor": 2
}
