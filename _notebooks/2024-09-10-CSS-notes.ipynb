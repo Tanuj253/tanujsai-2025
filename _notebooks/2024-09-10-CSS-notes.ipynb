{
 "cells": [
  {
   "cell_type": "markdown",
   "metadata": {},
   "source": [
    "---\n",
    "layout: post\n",
    "title: CSS Notes w/ Imaad\n",
    "comments: true\n",
    "---"
   ]
  },
  {
   "cell_type": "markdown",
   "metadata": {},
   "source": [
    "\n",
    "# Image Gallery (.image-gallery)\n",
    "What it does: The images are lined up in a row that can scroll side-to-side, like a carousel. This is done using display: flex so the images sit next to each other.\n",
    "Why it’s cool: By setting overflow-x: auto, the gallery becomes scrollable when there are too many images to fit on the screen. The images also keep their size but fit perfectly thanks to object-fit: cover.\n",
    "# Section Styling (.section)\n",
    "What it does: Each section has a blue background, rounded corners, and a box-shadow that gives it a glowing effect. There’s also some padding around the edges to keep things neat.\n",
    "Why it’s cool: The box shadow changes color from red to blue and back, making it look animated. It adds a little life to your page and makes the sections pop out more.\n",
    "# Text Formatting (Headings and Paragraphs)\n",
    "What it does: All headings and paragraphs are centered, with a little space between them. This makes everything look more structured and easier to read.\n",
    "Why it’s cool: It keeps your text aligned in a nice, clean way. The line-height gives your text breathing room so it’s not squished together.\n",
    "# RGB Animation (@keyframes rgb-rotate)\n",
    "What it does: This part creates an animation where the box shadow around the sections changes color smoothly between red and blue, like a slow color pulse.\n",
    "Why it’s cool: It adds some subtle movement to your page, which can make it more engaging. The color-changing shadow gives off a futuristic vibe.\n",
    "# Grid Layout (.grid-container and .grid-item)\n",
    "What it does: The grid system arranges items (like images) in three columns. Each item is spaced out evenly, keeping everything tidy.\n",
    "Why it’s cool: Grids are great for laying out multiple items in a neat, organized way. It makes things look structured and is perfect for galleries or portfolios.\n",
    "# Image Hover Effect (.grid-item img)\n",
    "What it does: When you hover over the images, the box-shadow will change. The images also have rounded corners to make them look smooth.\n",
    "Why it’s cool: It’s a small effect, but it gives your images a bit more personality. The hover effect lets people know that they can interact with the images.\n",
    "# Table Styling\n",
    "What it does: The table is centered and has a fixed width, which keeps it aligned and looking neat on the page.\n",
    "Why it’s cool: Tables can sometimes look messy, but by controlling the width and centering it, this one looks well-placed and professional."
   ]
  }
 ],
 "metadata": {
  "language_info": {
   "name": "python"
  }
 },
 "nbformat": 4,
 "nbformat_minor": 2
}
