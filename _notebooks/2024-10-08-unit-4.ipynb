{
 "cells": [
  {
   "cell_type": "markdown",
   "metadata": {},
   "source": [
    "---\n",
    "layout: post\n",
    "title: Unit 4 hw\n",
    "description: Unit 4\n",
    "type: issues \n",
    "comments: true\n",
    "---"
   ]
  },
  {
   "cell_type": "markdown",
   "metadata": {},
   "source": [
    "# Hack 1:\n",
    "The inner loop runs 4 times for each of the 5 iterations of the outer loop, resulting in a total of 20 * characters.\n",
    "\n",
    "# Hack 2:\n",
    "\n",
    "\n",
    "# Hw 1:\n",
    "Answer: D Explanation: Since the counter starts at 3 and keeps incrementing by 1 until it is greater than 12, it will print every number between 3 and 12 (inclusive).\n",
    "\n",
    "# Hw 2:\n",
    "Answer: C Explanation: The loop iterates from 3 to 10, inclusive, which makes a total of 8 iterations. Therefore, the code will print an asterisk (*) 8 times.\n",
    "\n",
    "# Hw 3:\n",
    "Answer: A Explanation: The while loop starts with x = -5 and increments x by 1 each time, printing the value of x after incrementing. This continues until x reaches 0, printing -4 to 0.\n",
    "\n",
    "# Hw 4:\n",
    "Answer: B Explanation: The loop iterates from 1 to 5. For odd numbers, it adds the number directly to sum; for even numbers, it adds double the number to sum. The calculation gives a final sum of 21.\n",
    "\n",
    "# Hw 5:"
   ]
  },
  {
   "cell_type": "code",
   "execution_count": 1,
   "metadata": {
    "vscode": {
     "languageId": "java"
    }
   },
   "outputs": [
    {
     "name": "stdout",
     "output_type": "stream",
     "text": [
      "Using while loop: [3, 5, 6, 9, 10, 12, 15, 18, 20, 21, 24, 25, 27, 30, 33, 35, 36, 39, 40, 42, 45, 48, 50]\n"
     ]
    }
   ],
   "source": [
    "import java.util.ArrayList;\n",
    "import java.util.List;\n",
    "\n",
    "public class DivisibleByThreeOrFive {\n",
    "    public static void main(String[] args) {\n",
    "        // Using a while loop\n",
    "        List<Integer> divisibleListWhile = new ArrayList<>();\n",
    "        int i = 1;\n",
    "        while (i <= 50) {\n",
    "            if (i % 3 == 0 || i % 5 == 0) {\n",
    "                divisibleListWhile.add(i);\n",
    "            }\n",
    "            i++;\n",
    "        }\n",
    "        System.out.println(\"Using while loop: \" + divisibleListWhile);\n",
    "    }\n",
    "}\n",
    "\n",
    "DivisibleByThreeOrFive.main(null);"
   ]
  },
  {
   "cell_type": "markdown",
   "metadata": {},
   "source": [
    "Hw 6:"
   ]
  },
  {
   "cell_type": "code",
   "execution_count": 3,
   "metadata": {
    "vscode": {
     "languageId": "java"
    }
   },
   "outputs": [
    {
     "name": "stdout",
     "output_type": "stream",
     "text": [
      "Palindromes in the list: [4444, 515, 2882, 6556, 595]\n"
     ]
    }
   ],
   "source": [
    "import java.util.ArrayList;\n",
    "\n",
    "public class PalindromeFinder {\n",
    "    public static void main(String[] args) {\n",
    "        // Sample input list\n",
    "        int[] testList = {5672, 235, 5537, 6032, 317, 8460, 1672, 8104, 7770, \n",
    "                          4442, 913, 2508, 1116, 9969, 9091, 522, 8756, \n",
    "                          9527, 7968, 1520, 4444, 515, 2882, 6556, 595};\n",
    "\n",
    "        ArrayList<Integer> palindromes = new ArrayList<>();\n",
    "        int index = 0;\n",
    "\n",
    "        // Use a while loop to iterate through the testList\n",
    "        while (index < testList.length) {\n",
    "            if (isPalindrome(testList[index])) {\n",
    "                palindromes.add(testList[index]);\n",
    "            }\n",
    "            index++; // Increment index\n",
    "        }\n",
    "\n",
    "        // Print the result\n",
    "        System.out.println(\"Palindromes in the list: \" + palindromes);\n",
    "    }\n",
    "\n",
    "    // Method to check if a number is a palindrome\n",
    "    public static boolean isPalindrome(int number) {\n",
    "        String strNumber = Integer.toString(number); // Convert number to string\n",
    "        int left = 0;\n",
    "        int right = strNumber.length() - 1;\n",
    "\n",
    "        // Check if the string is a palindrome\n",
    "        while (left < right) {\n",
    "            if (strNumber.charAt(left) != strNumber.charAt(right)) {\n",
    "                return false; // Not a palindrome\n",
    "            }\n",
    "            left++;\n",
    "            right--;\n",
    "        }\n",
    "        return true; // It's a palindrome\n",
    "    }\n",
    "}\n",
    "PalindromeFinder.main(null);"
   ]
  },
  {
   "cell_type": "markdown",
   "metadata": {},
   "source": [
    "Hw 7(exta credit past .9):"
   ]
  },
  {
   "cell_type": "code",
   "execution_count": 4,
   "metadata": {
    "vscode": {
     "languageId": "java"
    }
   },
   "outputs": [
    {
     "name": "stdout",
     "output_type": "stream",
     "text": [
      "Spiral Matrix of size 3:\n",
      "[1, 2, 3]\n",
      "[8, 9, 4]\n",
      "[7, 6, 5]\n"
     ]
    }
   ],
   "source": [
    "import java.util.Arrays;\n",
    "\n",
    "public class SpiralMatrix {\n",
    "    public static void main(String[] args) {\n",
    "        int n = 3; // Sample input size\n",
    "        int[][] matrix = new int[n][n]; // Create a 2D array for the spiral matrix\n",
    "\n",
    "        int top = 0, bottom = n - 1; // Initialize top and bottom boundaries\n",
    "        int left = 0, right = n - 1; // Initialize left and right boundaries\n",
    "        int num = 1; // Start filling the matrix from 1\n",
    "\n",
    "        // Fill the matrix in a spiral order\n",
    "        for (int i = 0; i < n * n; i++) {\n",
    "            if (top <= bottom) {\n",
    "                for (int j = left; j <= right; j++) {\n",
    "                    matrix[top][j] = num++;\n",
    "                }\n",
    "                top++; // Move the top boundary down\n",
    "            }\n",
    "\n",
    "            if (left <= right) {\n",
    "                for (int j = top; j <= bottom; j++) {\n",
    "                    matrix[j][right] = num++;\n",
    "                }\n",
    "                right--; // Move the right boundary left\n",
    "            }\n",
    "\n",
    "            if (top <= bottom) {\n",
    "                for (int j = right; j >= left; j--) {\n",
    "                    matrix[bottom][j] = num++;\n",
    "                }\n",
    "                bottom--; // Move the bottom boundary up\n",
    "            }\n",
    "\n",
    "            if (left <= right) {\n",
    "                for (int j = bottom; j >= top; j--) {\n",
    "                    matrix[j][left] = num++;\n",
    "                }\n",
    "                left++; // Move the left boundary right\n",
    "            }\n",
    "        }\n",
    "\n",
    "        // Print the spiral matrix\n",
    "        System.out.println(\"Spiral Matrix of size \" + n + \":\");\n",
    "        for (int[] row : matrix) {\n",
    "            System.out.println(Arrays.toString(row));\n",
    "        }\n",
    "    }\n",
    "}\n",
    "SpiralMatrix.main(null);"
   ]
  }
 ],
 "metadata": {
  "kernelspec": {
   "display_name": "Java",
   "language": "java",
   "name": "java"
  },
  "language_info": {
   "codemirror_mode": "java",
   "file_extension": ".jshell",
   "mimetype": "text/x-java-source",
   "name": "Java",
   "pygments_lexer": "java",
   "version": "17.0.12+7-Ubuntu-1ubuntu222.04"
  }
 },
 "nbformat": 4,
 "nbformat_minor": 2
}
